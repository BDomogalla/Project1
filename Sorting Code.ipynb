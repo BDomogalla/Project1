{
 "cells": [
  {
   "cell_type": "code",
   "execution_count": 1,
   "metadata": {},
   "outputs": [],
   "source": [
    "import pandas as pd"
   ]
  },
  {
   "cell_type": "code",
   "execution_count": 2,
   "metadata": {},
   "outputs": [],
   "source": [
    "filepath1 = \"Output/HOF_Batting_stats.csv\"\n",
    "\n",
    "filepath2 = \"Output/HOF_Postseason_Batting_stats.csv\"\n",
    "\n",
    "filepath3 = \"Output/Reg_Season_Batting_stats.csv\"\n",
    "\n",
    "filepath4 = \"Output/Postseason_Batting_stats.csv\"\n"
   ]
  },
  {
   "cell_type": "code",
   "execution_count": 3,
   "metadata": {
    "scrolled": true
   },
   "outputs": [],
   "source": [
    "sorted_hof_rs_stats = pd.read_csv(filepath1)\n",
    "\n",
    "sorted_hof_ps_stats = pd.read_csv(filepath2)\n",
    "\n",
    "sorted_rs_stats = pd.read_csv(filepath3)\n",
    "\n",
    "sorted_ps_stats = pd.read_csv(filepath4)"
   ]
  },
  {
   "cell_type": "code",
   "execution_count": 4,
   "metadata": {},
   "outputs": [],
   "source": [
    "sorted_hof_rs_stats = sorted_hof_rs_stats.sort_values(\"yearID\")\n",
    "\n",
    "sorted_hof_rs_stats = sorted_hof_rs_stats.loc[sorted_hof_rs_stats[\"yearID\"] >= 1950]\n",
    "\n",
    "sorted_hof_rs_stats.to_csv(\"Output/sorted_hof_rs_stats.csv\", index=False, header=True)"
   ]
  },
  {
   "cell_type": "code",
   "execution_count": 5,
   "metadata": {},
   "outputs": [],
   "source": [
    "sorted_hof_ps_stats = sorted_hof_ps_stats.sort_values(\"yearID\")\n",
    "\n",
    "sorted_hof_ps_stats = sorted_hof_ps_stats.loc[sorted_hof_ps_stats[\"yearID\"] >= 1950]\n",
    "\n",
    "sorted_hof_ps_stats.to_csv(\"Output/sorted_hof_ps_stats.csv\", index=False, header=True)"
   ]
  },
  {
   "cell_type": "code",
   "execution_count": 6,
   "metadata": {},
   "outputs": [],
   "source": [
    "sorted_rs_stats = sorted_rs_stats.sort_values(\"yearID\")\n",
    "\n",
    "sorted_rs_stats = sorted_rs_stats.loc[sorted_rs_stats[\"yearID\"] >= 1950]\n",
    "\n",
    "sorted_rs_stats.to_csv(\"Output/sorted_rs_stats.csv\", index=False, header=True)"
   ]
  },
  {
   "cell_type": "code",
   "execution_count": 7,
   "metadata": {},
   "outputs": [],
   "source": [
    "sorted_ps_stats = sorted_ps_stats.sort_values(\"yearID\")\n",
    "\n",
    "sorted_ps_stats = sorted_ps_stats.loc[sorted_ps_stats[\"yearID\"] >= 1950]\n",
    "\n",
    "sorted_ps_stats.to_csv(\"Output/sorted_ps_stats.csv\", index=False, header=True)"
   ]
  },
  {
   "cell_type": "code",
   "execution_count": null,
   "metadata": {},
   "outputs": [],
   "source": []
  }
 ],
 "metadata": {
  "kernelspec": {
   "display_name": "Python [conda env:PythonData] *",
   "language": "python",
   "name": "conda-env-PythonData-py"
  },
  "language_info": {
   "codemirror_mode": {
    "name": "ipython",
    "version": 3
   },
   "file_extension": ".py",
   "mimetype": "text/x-python",
   "name": "python",
   "nbconvert_exporter": "python",
   "pygments_lexer": "ipython3",
   "version": "3.6.9"
  }
 },
 "nbformat": 4,
 "nbformat_minor": 2
}
