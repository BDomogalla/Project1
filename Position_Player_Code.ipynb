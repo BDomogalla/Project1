{
 "cells": [
  {
   "cell_type": "code",
   "execution_count": 1,
   "metadata": {},
   "outputs": [],
   "source": [
    "import pandas as pd"
   ]
  },
  {
   "cell_type": "code",
   "execution_count": 2,
   "metadata": {},
   "outputs": [],
   "source": [
    "filepath1 = \"Data/Fielding.csv\"\n",
    "\n",
    "filepath2 = \"Data/People.csv\"\n",
    "\n",
    "filepath3 = \"Output/sorted_hof_rs_stats.csv\"\n",
    "\n",
    "filepath4 = \"Output/sorted_hof_ps_stats.csv\"\n",
    "\n",
    "filepath5 = \"Output/sorted_rs_stats.csv\"\n",
    "\n",
    "filepath6 = \"Output/sorted_ps_stats.csv\"\n",
    "\n",
    "df1 = pd.read_csv(filepath1)\n",
    "\n",
    "df2 = pd.read_csv(filepath2)\n",
    "\n",
    "df3 = pd.read_csv(filepath3)\n",
    "\n",
    "df4 = pd.read_csv(filepath4)\n",
    "\n",
    "df5 = pd.read_csv(filepath5)\n",
    "\n",
    "df6 = pd.read_csv(filepath6)"
   ]
  },
  {
   "cell_type": "code",
   "execution_count": 3,
   "metadata": {},
   "outputs": [],
   "source": [
    "df1 = df1[[\"playerID\", \"POS\"]]"
   ]
  },
  {
   "cell_type": "code",
   "execution_count": 4,
   "metadata": {},
   "outputs": [],
   "source": [
    "position_players = df1.loc[(df1[\"POS\"] == \"C\") | (df1[\"POS\"] == \"1B\") | (df1[\"POS\"] == \"2B\") | (df1[\"POS\"] == \"SS\") | (df1[\"POS\"] == \"3B\") | (df1[\"POS\"] == \"OF\")]"
   ]
  },
  {
   "cell_type": "code",
   "execution_count": 5,
   "metadata": {},
   "outputs": [],
   "source": [
    "player_names = df2[[\"playerID\", \"nameFirst\", \"nameLast\"]]"
   ]
  },
  {
   "cell_type": "code",
   "execution_count": 6,
   "metadata": {},
   "outputs": [],
   "source": [
    "player_names = player_names.assign(Name = player_names.nameFirst.astype(str) + \" \" +\n",
    "                                                       player_names.nameLast.astype(str))"
   ]
  },
  {
   "cell_type": "code",
   "execution_count": 7,
   "metadata": {},
   "outputs": [],
   "source": [
    "player_names = player_names[[\"playerID\", \"Name\"]]"
   ]
  },
  {
   "cell_type": "code",
   "execution_count": 8,
   "metadata": {},
   "outputs": [],
   "source": [
    "position_player_names = pd.merge(player_names, position_players, on=\"playerID\", how=\"inner\")"
   ]
  },
  {
   "cell_type": "code",
   "execution_count": 9,
   "metadata": {},
   "outputs": [],
   "source": [
    "position_player_names = pd.DataFrame({\"playerID\": position_player_names[\"playerID\"].unique()})"
   ]
  },
  {
   "cell_type": "code",
   "execution_count": 10,
   "metadata": {},
   "outputs": [],
   "source": [
    "sorted_hof_pp_rs_stats = pd.merge(df3, position_player_names, on=\"playerID\", how=\"inner\")\n",
    "\n",
    "sorted_hof_pp_rs_stats = sorted_hof_pp_rs_stats.sort_values(\"yearID\")\n",
    "\n",
    "sorted_hof_pp_rs_stats.to_csv(\"Output/sorted_hof_pp_rs_stats.csv\", index=False, header=True)"
   ]
  },
  {
   "cell_type": "code",
   "execution_count": 11,
   "metadata": {},
   "outputs": [],
   "source": [
    "sorted_hof_pp_ps_stats = pd.merge(df4, position_player_names, on=\"playerID\", how=\"inner\")\n",
    "\n",
    "sorted_hof_pp_ps_stats = sorted_hof_pp_ps_stats.sort_values(\"yearID\")\n",
    "\n",
    "sorted_hof_pp_ps_stats.to_csv(\"Output/sorted_hof_pp_ps_stats.csv\", index=False, header=True)"
   ]
  },
  {
   "cell_type": "code",
   "execution_count": 12,
   "metadata": {},
   "outputs": [],
   "source": [
    "sorted_pp_rs_stats = pd.merge(df5, position_player_names, on=\"playerID\", how=\"inner\")\n",
    "\n",
    "sorted_pp_rs_stats = sorted_pp_rs_stats.sort_values(\"yearID\")\n",
    "\n",
    "sorted_pp_rs_stats.to_csv(\"Output/sorted_pp_rs_stats.csv\", index=False, header=True)"
   ]
  },
  {
   "cell_type": "code",
   "execution_count": 13,
   "metadata": {},
   "outputs": [],
   "source": [
    "sorted_pp_ps_stats = pd.merge(df6, position_player_names, on=\"playerID\", how=\"inner\")\n",
    "\n",
    "sorted_pp_ps_stats = sorted_pp_ps_stats.sort_values(\"yearID\")\n",
    "\n",
    "sorted_pp_ps_stats.to_csv(\"Output/sorted_pp_ps_stats.csv\", index=False, header=True)"
   ]
  },
  {
   "cell_type": "code",
   "execution_count": null,
   "metadata": {},
   "outputs": [],
   "source": []
  }
 ],
 "metadata": {
  "kernelspec": {
   "display_name": "Python [conda env:PythonData] *",
   "language": "python",
   "name": "conda-env-PythonData-py"
  },
  "language_info": {
   "codemirror_mode": {
    "name": "ipython",
    "version": 3
   },
   "file_extension": ".py",
   "mimetype": "text/x-python",
   "name": "python",
   "nbconvert_exporter": "python",
   "pygments_lexer": "ipython3",
   "version": "3.6.9"
  }
 },
 "nbformat": 4,
 "nbformat_minor": 2
}
