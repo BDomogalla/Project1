{
 "cells": [
  {
   "cell_type": "markdown",
   "metadata": {},
   "source": [
    "A player must have a minimum of 3,000 plate appearances in order to qualify for overall BA record\n",
    "****Maybe Drop players who havent played in a full seasons worth of games?****\n",
    "****Need to fix integrating player name and yearID (Do we do a range?)\n",
    "****Figure out how we decide who belongs in each decade\n",
    "*If we want to do regression- data has to be on career level- but then parsing out decades is hard\n",
    "    *Maybe we then do regression of what plays into getting into HOF overall and then use a groupby decade to show differences \n",
    "     in summary statisics over time- do hypothesis testing on this to tell if players are statistically better now vs then?\n",
    "****Want column of binary 1 or 0 for whether or not player is in HOF\n",
    "*Run ANNOVA to see if any decade is significantly differnt from the rest over x metric (ie homeruns or BA)\n",
    "*Chi squared test of hall of famers per decade to see if each decade put out a expected proportion of hall of famers"
   ]
  },
  {
   "cell_type": "code",
   "execution_count": 1,
   "metadata": {},
   "outputs": [],
   "source": [
    "%matplotlib inline\n",
    "import pandas as pd\n",
    "import matplotlib.pyplot as plt\n",
    "import scipy.stats as stats\n",
    "import numpy as np"
   ]
  },
  {
   "cell_type": "code",
   "execution_count": 2,
   "metadata": {},
   "outputs": [],
   "source": [
    "#Importing data into dataframes\n",
    "HOF_Batting = pd.read_csv('Output/sorted_hof_pp_rs_stats.csv')\n",
    "HOF_Post_Batting = pd.read_csv('Output/sorted_hof_pp_ps_stats.csv')\n",
    "Post_Batting = pd.read_csv('Output/sorted_pp_ps_stats.csv')\n",
    "Reg_Batting = pd.read_csv('Output/sorted_pp_rs_stats.csv')\n"
   ]
  },
  {
   "cell_type": "code",
   "execution_count": 3,
   "metadata": {},
   "outputs": [
    {
     "data": {
      "text/html": [
       "<div>\n",
       "<style scoped>\n",
       "    .dataframe tbody tr th:only-of-type {\n",
       "        vertical-align: middle;\n",
       "    }\n",
       "\n",
       "    .dataframe tbody tr th {\n",
       "        vertical-align: top;\n",
       "    }\n",
       "\n",
       "    .dataframe thead th {\n",
       "        text-align: right;\n",
       "    }\n",
       "</style>\n",
       "<table border=\"1\" class=\"dataframe\">\n",
       "  <thead>\n",
       "    <tr style=\"text-align: right;\">\n",
       "      <th></th>\n",
       "      <th>playerID</th>\n",
       "      <th>Name</th>\n",
       "      <th>yearID</th>\n",
       "      <th>G</th>\n",
       "      <th>AB</th>\n",
       "      <th>R</th>\n",
       "      <th>H</th>\n",
       "      <th>2B</th>\n",
       "      <th>3B</th>\n",
       "      <th>HR</th>\n",
       "      <th>RBI</th>\n",
       "      <th>BB</th>\n",
       "      <th>IBB</th>\n",
       "      <th>HBP</th>\n",
       "      <th>SH</th>\n",
       "    </tr>\n",
       "  </thead>\n",
       "  <tbody>\n",
       "    <tr>\n",
       "      <th>0</th>\n",
       "      <td>lemonbo01</td>\n",
       "      <td>Bob Lemon</td>\n",
       "      <td>1950</td>\n",
       "      <td>72</td>\n",
       "      <td>136</td>\n",
       "      <td>21</td>\n",
       "      <td>37</td>\n",
       "      <td>9</td>\n",
       "      <td>1</td>\n",
       "      <td>6</td>\n",
       "      <td>26.0</td>\n",
       "      <td>13</td>\n",
       "      <td>0.0</td>\n",
       "      <td>1.0</td>\n",
       "      <td>3.0</td>\n",
       "    </tr>\n",
       "    <tr>\n",
       "      <th>1</th>\n",
       "      <td>mizejo01</td>\n",
       "      <td>Johnny Mize</td>\n",
       "      <td>1950</td>\n",
       "      <td>90</td>\n",
       "      <td>274</td>\n",
       "      <td>43</td>\n",
       "      <td>76</td>\n",
       "      <td>12</td>\n",
       "      <td>0</td>\n",
       "      <td>25</td>\n",
       "      <td>72.0</td>\n",
       "      <td>29</td>\n",
       "      <td>0.0</td>\n",
       "      <td>2.0</td>\n",
       "      <td>0.0</td>\n",
       "    </tr>\n",
       "    <tr>\n",
       "      <th>2</th>\n",
       "      <td>dobyla01</td>\n",
       "      <td>Larry Doby</td>\n",
       "      <td>1950</td>\n",
       "      <td>142</td>\n",
       "      <td>503</td>\n",
       "      <td>110</td>\n",
       "      <td>164</td>\n",
       "      <td>25</td>\n",
       "      <td>5</td>\n",
       "      <td>25</td>\n",
       "      <td>102.0</td>\n",
       "      <td>98</td>\n",
       "      <td>0.0</td>\n",
       "      <td>6.0</td>\n",
       "      <td>2.0</td>\n",
       "    </tr>\n",
       "    <tr>\n",
       "      <th>3</th>\n",
       "      <td>ashburi01</td>\n",
       "      <td>Richie Ashburn</td>\n",
       "      <td>1950</td>\n",
       "      <td>151</td>\n",
       "      <td>594</td>\n",
       "      <td>84</td>\n",
       "      <td>180</td>\n",
       "      <td>25</td>\n",
       "      <td>14</td>\n",
       "      <td>2</td>\n",
       "      <td>41.0</td>\n",
       "      <td>63</td>\n",
       "      <td>0.0</td>\n",
       "      <td>2.0</td>\n",
       "      <td>11.0</td>\n",
       "    </tr>\n",
       "    <tr>\n",
       "      <th>4</th>\n",
       "      <td>rizzuph01</td>\n",
       "      <td>Phil Rizzuto</td>\n",
       "      <td>1950</td>\n",
       "      <td>155</td>\n",
       "      <td>617</td>\n",
       "      <td>125</td>\n",
       "      <td>200</td>\n",
       "      <td>36</td>\n",
       "      <td>7</td>\n",
       "      <td>7</td>\n",
       "      <td>66.0</td>\n",
       "      <td>92</td>\n",
       "      <td>0.0</td>\n",
       "      <td>7.0</td>\n",
       "      <td>19.0</td>\n",
       "    </tr>\n",
       "  </tbody>\n",
       "</table>\n",
       "</div>"
      ],
      "text/plain": [
       "    playerID            Name  yearID    G   AB    R    H  2B  3B  HR    RBI  \\\n",
       "0  lemonbo01       Bob Lemon    1950   72  136   21   37   9   1   6   26.0   \n",
       "1   mizejo01     Johnny Mize    1950   90  274   43   76  12   0  25   72.0   \n",
       "2   dobyla01      Larry Doby    1950  142  503  110  164  25   5  25  102.0   \n",
       "3  ashburi01  Richie Ashburn    1950  151  594   84  180  25  14   2   41.0   \n",
       "4  rizzuph01    Phil Rizzuto    1950  155  617  125  200  36   7   7   66.0   \n",
       "\n",
       "   BB  IBB  HBP    SH  \n",
       "0  13  0.0  1.0   3.0  \n",
       "1  29  0.0  2.0   0.0  \n",
       "2  98  0.0  6.0   2.0  \n",
       "3  63  0.0  2.0  11.0  \n",
       "4  92  0.0  7.0  19.0  "
      ]
     },
     "execution_count": 3,
     "metadata": {},
     "output_type": "execute_result"
    }
   ],
   "source": [
    "HOF_Batting.head()\n"
   ]
  },
  {
   "cell_type": "markdown",
   "metadata": {},
   "source": [
    "# Creating Decades column for each dataset"
   ]
  },
  {
   "cell_type": "code",
   "execution_count": 4,
   "metadata": {},
   "outputs": [],
   "source": [
    "#Create decades column for Regular Season Batting\n",
    "conditions = [(Reg_Batting[\"yearID\"] >= 1950) & (Reg_Batting['yearID'] < 1960), (Reg_Batting[\"yearID\"] >= 1960) & (Reg_Batting[\"yearID\"] < 1970),\n",
    "               (Reg_Batting[\"yearID\"] >= 1970) & (Reg_Batting[\"yearID\"] < 1980), (Reg_Batting[\"yearID\"] >= 1980) & (Reg_Batting[\"yearID\"] < 1990),\n",
    "               (Reg_Batting[\"yearID\"] >= 1990) & (Reg_Batting[\"yearID\"] < 2000), (Reg_Batting[\"yearID\"] >= 2000) & (Reg_Batting[\"yearID\"] < 2010),\n",
    "               Reg_Batting[\"yearID\"] < 2020\n",
    "             ]\n",
    "choices     = ['1950', '1960', '1970','1980', '1990','2000', '2010']\n",
    "Reg_Batting[\"Decade\"] = np.select(conditions, choices, default=np.nan)\n",
    "#Reg_Batting"
   ]
  },
  {
   "cell_type": "code",
   "execution_count": 5,
   "metadata": {},
   "outputs": [],
   "source": [
    "#Create decades column for Hall of Fame regular season batting\n",
    "conditions = [(HOF_Batting[\"yearID\"] >= 1950) & (HOF_Batting['yearID'] < 1960), (HOF_Batting[\"yearID\"] >= 1960) & (HOF_Batting[\"yearID\"] < 1970),\n",
    "               (HOF_Batting[\"yearID\"] >= 1970) & (HOF_Batting[\"yearID\"] < 1980), (HOF_Batting[\"yearID\"] >= 1980) & (HOF_Batting[\"yearID\"] < 1990),\n",
    "               (HOF_Batting[\"yearID\"] >= 1990) & (HOF_Batting[\"yearID\"] < 2000), (HOF_Batting[\"yearID\"] >= 2000) & (HOF_Batting[\"yearID\"] < 2010),\n",
    "               HOF_Batting[\"yearID\"] < 2020\n",
    "             ]\n",
    "choices     = ['1950', '1960', '1970','1980', '1990','2000', '2010']\n",
    "HOF_Batting[\"Decade\"] = np.select(conditions, choices, default=np.nan)\n",
    "#HOF_Batting"
   ]
  },
  {
   "cell_type": "code",
   "execution_count": 6,
   "metadata": {},
   "outputs": [],
   "source": [
    "#Create decades column for Post Season Batting\n",
    "conditions = [ (Post_Batting[\"yearID\"] >= 1950) & (Post_Batting['yearID'] < 1960), (Post_Batting[\"yearID\"] >= 1960) & (Post_Batting[\"yearID\"] < 1970),\n",
    "               (Post_Batting[\"yearID\"] >= 1970) & (Post_Batting[\"yearID\"] < 1980), (Post_Batting[\"yearID\"] >= 1980) & (Post_Batting[\"yearID\"] < 1990),\n",
    "               (Post_Batting[\"yearID\"] >= 1990) & (Post_Batting[\"yearID\"] < 2000), (Post_Batting[\"yearID\"] >= 2000) & (Post_Batting[\"yearID\"] < 2010),\n",
    "               Post_Batting[\"yearID\"] < 2020\n",
    "             ]\n",
    "choices     = ['1950', '1960', '1970','1980', '1990','2000', '2010']\n",
    "Post_Batting[\"Decade\"] = np.select(conditions, choices, default=np.nan)\n",
    "#Post_Batting"
   ]
  },
  {
   "cell_type": "code",
   "execution_count": 7,
   "metadata": {},
   "outputs": [],
   "source": [
    "#Create decades column for Hall of Fame Post-season Batting\n",
    "conditions = [(HOF_Post_Batting[\"yearID\"] >= 1950) & (HOF_Post_Batting['yearID'] < 1960), (HOF_Post_Batting[\"yearID\"] >= 1960) & (HOF_Post_Batting[\"yearID\"] < 1970),\n",
    "               (HOF_Post_Batting[\"yearID\"] >= 1970) & (HOF_Post_Batting[\"yearID\"] < 1980), (HOF_Post_Batting[\"yearID\"] >= 1980) & (HOF_Post_Batting[\"yearID\"] < 1990),\n",
    "               (HOF_Post_Batting[\"yearID\"] >= 1990) & (HOF_Post_Batting[\"yearID\"] < 2000), (HOF_Post_Batting[\"yearID\"] >= 2000) & (HOF_Post_Batting[\"yearID\"] < 2010),\n",
    "               HOF_Post_Batting[\"yearID\"] < 2020\n",
    "             ]\n",
    "choices     = ['1950', '1960', '1970','1980', '1990','2000', '2010']\n",
    "HOF_Post_Batting[\"Decade\"] = np.select(conditions, choices, default=np.nan)\n",
    "#HOF_Post_Batting"
   ]
  },
  {
   "cell_type": "markdown",
   "metadata": {},
   "source": [
    "# Calculating Career level statistics\n",
    "## Dont think we need these anywhere else- delete later"
   ]
  },
  {
   "cell_type": "code",
   "execution_count": 8,
   "metadata": {},
   "outputs": [],
   "source": [
    "#Using GroupBy playerID to get career statistics for players\n",
    "career_HOF_Post_Batting = HOF_Post_Batting.groupby(['playerID','Name','Decade']).agg({\n",
    "             'yearID':['min', 'max'],\n",
    "             'G': 'sum',\n",
    "             'AB' : 'sum',\n",
    "             'R': 'sum',\n",
    "             'H' : 'sum',\n",
    "             '2B':'sum',\n",
    "             '3B' :'sum',\n",
    "             'HR': 'sum',\n",
    "             'RBI': 'sum',\n",
    "             'BB' :'sum',\n",
    "             'IBB': 'sum',\n",
    "             'HBP':'sum',\n",
    "}).reset_index()\n",
    "#career_HOF_Post_Batting.head()"
   ]
  },
  {
   "cell_type": "code",
   "execution_count": 9,
   "metadata": {},
   "outputs": [],
   "source": [
    "#Using GroupBy playerID to get career statistics for players\n",
    "career_Post_Batting = Post_Batting.groupby(['playerID','Name','Decade']).agg({\n",
    "             'G': 'sum',\n",
    "             'AB' : 'sum',\n",
    "             'R': 'sum',\n",
    "             'H' : 'sum',\n",
    "             '2B':'sum',\n",
    "             '3B' :'sum',\n",
    "             'HR': 'sum',\n",
    "             'RBI': 'sum',\n",
    "             'BB' :'sum',\n",
    "             'IBB': 'sum',\n",
    "             'HBP':'sum',\n",
    "}).reset_index()\n",
    "#career_Post_Batting.head()"
   ]
  },
  {
   "cell_type": "code",
   "execution_count": 10,
   "metadata": {
    "scrolled": true
   },
   "outputs": [],
   "source": [
    "#Using GroupBy playerID to get career statistics for players\n",
    "career_Reg_Batting = Reg_Batting.groupby(['playerID','Name','Decade']).agg({\n",
    "             'G': 'sum',\n",
    "             'AB' : 'sum',\n",
    "             'R': 'sum',\n",
    "             'H' : 'sum',\n",
    "             '2B':'sum',\n",
    "             '3B' :'sum',\n",
    "             'HR': 'sum',\n",
    "             'RBI': 'sum',\n",
    "             'BB' :'sum',\n",
    "             'IBB': 'sum',\n",
    "             'HBP':'sum',\n",
    "}).reset_index()\n",
    "#career_Reg_Batting.head()"
   ]
  },
  {
   "cell_type": "code",
   "execution_count": 11,
   "metadata": {},
   "outputs": [],
   "source": [
    "#Using GroupBy playerID to get career statistics for players\n",
    "career_HOF_Batting = HOF_Batting.groupby(['playerID','Name','Decade']).agg({\n",
    "             'G': 'sum',\n",
    "             'AB' : 'sum',\n",
    "             'R': 'sum',\n",
    "             'H' : 'sum',\n",
    "             '2B':'sum',\n",
    "             '3B' :'sum',\n",
    "             'HR': 'sum',\n",
    "             'RBI': 'sum',\n",
    "             'BB' :'sum',\n",
    "             'IBB': 'sum',\n",
    "             'HBP':'sum',\n",
    "}).reset_index()\n",
    "#career_Reg_Batting.head()"
   ]
  },
  {
   "cell_type": "markdown",
   "metadata": {},
   "source": [
    "# Aggregating stats by Decade for HOF/ALL and regular season/ post-season\n"
   ]
  },
  {
   "cell_type": "code",
   "execution_count": 128,
   "metadata": {},
   "outputs": [],
   "source": [
    "#Using GroupBy playerID to aggregate statistics by the decade\n",
    "decade_Reg_Batting = Reg_Batting.groupby(['Decade']).agg({\n",
    "             'G': 'sum',\n",
    "             'AB' : 'sum',\n",
    "             'R': 'sum',\n",
    "             'H' : 'sum',\n",
    "             '2B':'sum',\n",
    "             '3B' :'sum',\n",
    "             'HR': 'sum',\n",
    "             'RBI': 'sum',\n",
    "             'BB' :'sum',\n",
    "             'IBB': 'sum',\n",
    "             'HBP':'sum',\n",
    "}).reset_index()\n",
    "#decade_Reg_Batting.head()"
   ]
  },
  {
   "cell_type": "code",
   "execution_count": 127,
   "metadata": {},
   "outputs": [],
   "source": [
    "#Using GroupBy playerID to aggregate statistics by the decade\n",
    "decade_Post_Batting = Post_Batting.groupby(['Decade']).agg({\n",
    "             'G': 'sum',\n",
    "             'AB' : 'sum',\n",
    "             'R': 'sum',\n",
    "             'H' : 'sum',\n",
    "             '2B':'sum',\n",
    "             '3B' :'sum',\n",
    "             'HR': 'sum',\n",
    "             'RBI': 'sum',\n",
    "             'BB' :'sum',\n",
    "             'IBB': 'sum',\n",
    "             'HBP':'sum',\n",
    "}).reset_index()\n",
    "#decade_Post_Batting.head()"
   ]
  },
  {
   "cell_type": "code",
   "execution_count": 126,
   "metadata": {},
   "outputs": [],
   "source": [
    "#Using GroupBy playerID to aggregate statistics by the decade\n",
    "decade_HOF_Batting = HOF_Batting.groupby(['Decade']).agg({\n",
    "             'G': 'sum',\n",
    "             'AB' : 'sum',\n",
    "             'R': 'sum',\n",
    "             'H' : 'sum',\n",
    "             '2B':'sum',\n",
    "             '3B' :'sum',\n",
    "             'HR': 'sum',\n",
    "             'RBI': 'sum',\n",
    "             'BB' :'sum',\n",
    "             'IBB': 'sum',\n",
    "             'HBP':'sum',\n",
    "}).reset_index()\n",
    "#decade_HOF_Batting.head()"
   ]
  },
  {
   "cell_type": "code",
   "execution_count": 123,
   "metadata": {},
   "outputs": [],
   "source": [
    "#Using GroupBy playerID to aggregate statistics by the decade\n",
    "decade_HOF_Post_Batting = HOF_Post_Batting.groupby(['Decade']).agg({\n",
    "             'G': 'sum',\n",
    "             'AB' : 'sum',\n",
    "             'R': 'sum',\n",
    "             'H' : 'sum',\n",
    "             '2B':'sum',\n",
    "             '3B' :'sum',\n",
    "             'HR': 'sum',\n",
    "             'RBI': 'sum',\n",
    "             'BB' :'sum',\n",
    "             'IBB': 'sum',\n",
    "             'HBP':'sum',\n",
    "}).reset_index()\n",
    "#decade_HOF_Post_Batting.head()"
   ]
  },
  {
   "cell_type": "markdown",
   "metadata": {},
   "source": [
    "# Calculating Batting Stats by Decade\n"
   ]
  },
  {
   "cell_type": "code",
   "execution_count": 122,
   "metadata": {},
   "outputs": [],
   "source": [
    "#Calculating Batting Average, On Base Percentage & Slugging Percentage For Decades Dataframes\n",
    "decade_Reg_Batting['BA'] = decade_Reg_Batting['H'] / decade_Reg_Batting['AB']\n",
    "decade_Reg_Batting['OBP'] = (\n",
    "    (decade_Reg_Batting['H'] + decade_Reg_Batting['BB']  + decade_Reg_Batting['HBP']) \n",
    "    / (decade_Reg_Batting['AB'] + decade_Reg_Batting['BB']  + decade_Reg_Batting['HBP'])\n",
    "                               )\n",
    "decade_Reg_Batting['SLG']= ( ((decade_Reg_Batting['H'] - (decade_Reg_Batting['2B'] + decade_Reg_Batting['3B'] + decade_Reg_Batting['HR']) )\n",
    "                              + 2*decade_Reg_Batting['2B'] + 3*decade_Reg_Batting['3B'] + 4*decade_Reg_Batting['HR'])\n",
    "                            / (decade_Reg_Batting['AB'])\n",
    "                            )\n",
    "decade_Reg_Batting['OPS']= decade_Reg_Batting['SLG'] + decade_Reg_Batting['OBP']\n",
    "#decade_Reg_Batting"
   ]
  },
  {
   "cell_type": "code",
   "execution_count": 125,
   "metadata": {},
   "outputs": [],
   "source": [
    "#Calculating Batting Average, On Base Percentage & Slugging Percentage For Decades Dataframes\n",
    "decade_Post_Batting['BA'] = decade_Post_Batting['H'] / decade_Post_Batting['AB']\n",
    "decade_Post_Batting['OBP'] = (\n",
    "    (decade_Post_Batting['H'] + decade_Post_Batting['BB']  + decade_Post_Batting['HBP']) \n",
    "    / (decade_Post_Batting['AB'] + decade_Post_Batting['BB']  + decade_Post_Batting['HBP'])\n",
    "                               )\n",
    "decade_Post_Batting['SLG']= ( ((decade_Post_Batting['H'] - (decade_Post_Batting['2B'] + decade_Post_Batting['3B'] + decade_Post_Batting['HR']) )\n",
    "                              + 2*decade_Post_Batting['2B'] + 3*decade_Post_Batting['3B'] + 4*decade_Post_Batting['HR'])\n",
    "                            / (decade_Post_Batting['AB'])\n",
    "                            )\n",
    "decade_Post_Batting['OPS']= decade_Post_Batting['SLG'] + decade_Post_Batting['OBP']\n",
    "#decade_Post_Batting.head()"
   ]
  },
  {
   "cell_type": "code",
   "execution_count": 120,
   "metadata": {},
   "outputs": [],
   "source": [
    "#Calculating Batting Average, On Base Percentage & Slugging Percentage For Decades Dataframes\n",
    "decade_HOF_Batting['BA'] = decade_HOF_Batting['H'] / decade_HOF_Batting['AB']\n",
    "decade_HOF_Batting['OBP'] = (\n",
    "    (decade_HOF_Batting['H'] + decade_HOF_Batting['BB']  + decade_HOF_Batting['HBP']) \n",
    "    / (decade_HOF_Batting['AB'] + decade_HOF_Batting['BB']  + decade_HOF_Batting['HBP'])\n",
    "                               )\n",
    "decade_HOF_Batting['SLG']= ( ((decade_HOF_Batting['H'] - (decade_HOF_Batting['2B'] + decade_HOF_Batting['3B'] + decade_HOF_Batting['HR']) )\n",
    "                              + 2*decade_HOF_Batting['2B'] + 3*decade_HOF_Batting['3B'] + 4*decade_HOF_Batting['HR'])\n",
    "                            / (decade_HOF_Batting['AB'])\n",
    "                            )\n",
    "decade_HOF_Batting['OPS']= decade_HOF_Batting['SLG'] + decade_HOF_Batting['OBP']\n",
    "#decade_HOF_Batting"
   ]
  },
  {
   "cell_type": "code",
   "execution_count": 119,
   "metadata": {},
   "outputs": [],
   "source": [
    "#Calculating Batting Average, On Base Percentage & Slugging Percentage For Decades Dataframes\n",
    "decade_HOF_Post_Batting['BA'] = decade_HOF_Post_Batting['H'] / decade_HOF_Post_Batting['AB']\n",
    "decade_HOF_Post_Batting['OBP'] = (\n",
    "    (decade_HOF_Post_Batting['H'] + decade_HOF_Post_Batting['BB']  + decade_HOF_Post_Batting['HBP']) \n",
    "    / (decade_HOF_Post_Batting['AB'] + decade_HOF_Post_Batting['BB']  + decade_HOF_Post_Batting['HBP'])\n",
    "                               )\n",
    "decade_HOF_Post_Batting['SLG']= ( ((decade_HOF_Post_Batting['H'] - (decade_HOF_Post_Batting['2B'] + decade_HOF_Post_Batting['3B'] + decade_HOF_Post_Batting['HR']) )\n",
    "                              + 2*decade_HOF_Post_Batting['2B'] + 3*decade_HOF_Post_Batting['3B'] + 4*decade_HOF_Post_Batting['HR'])\n",
    "                            / (decade_HOF_Post_Batting['AB'])\n",
    "                            )\n",
    "decade_HOF_Post_Batting['OPS']= decade_HOF_Post_Batting['SLG'] + decade_HOF_Post_Batting['OBP']\n",
    "#decade_HOF_Post_Batting"
   ]
  },
  {
   "cell_type": "code",
   "execution_count": 115,
   "metadata": {},
   "outputs": [],
   "source": [
    "#Calculating Batting Average, On Base Percentage & Slugging Percentage For Regular season Dataframe\n",
    "Reg_Batting['BA'] = Reg_Batting['H'] / Reg_Batting['AB']\n",
    "Reg_Batting['OBP'] = (\n",
    "    (Reg_Batting['H'] + Reg_Batting['BB']  + Reg_Batting['HBP']) \n",
    "    / (Reg_Batting['AB'] + Reg_Batting['BB']  + Reg_Batting['HBP'])\n",
    "                               )\n",
    "Reg_Batting['SLG']= ( ((Reg_Batting['H'] - (Reg_Batting['2B'] + Reg_Batting['3B'] + Reg_Batting['HR']) )\n",
    "                              + 2*Reg_Batting['2B'] + 3*Reg_Batting['3B'] + 4*Reg_Batting['HR'])\n",
    "                            / (Reg_Batting['AB'])\n",
    "                            )\n",
    "Reg_Batting['OPS']= Reg_Batting['SLG'] + Reg_Batting['OBP']\n",
    "#Reg_Batting.head()"
   ]
  },
  {
   "cell_type": "code",
   "execution_count": 116,
   "metadata": {},
   "outputs": [],
   "source": [
    "#Calculating Batting Average, On Base Percentage & Slugging Percentage For HOF Dataframe\n",
    "HOF_Batting['BA'] = HOF_Batting['H'] / HOF_Batting['AB']\n",
    "HOF_Batting['OBP'] = (\n",
    "    (HOF_Batting['H'] + HOF_Batting['BB']  + HOF_Batting['HBP']) \n",
    "    / (HOF_Batting['AB'] + HOF_Batting['BB']  + HOF_Batting['HBP'])\n",
    "                               )\n",
    "HOF_Batting['SLG']= ( ((HOF_Batting['H'] - (HOF_Batting['2B'] + HOF_Batting['3B'] + HOF_Batting['HR']) )\n",
    "                              + 2*HOF_Batting['2B'] + 3*HOF_Batting['3B'] + 4*HOF_Batting['HR'])\n",
    "                            / (HOF_Batting['AB'])\n",
    "                            )\n",
    "HOF_Batting['OPS']= HOF_Batting['SLG'] + HOF_Batting['OBP']\n",
    "#HOF_Batting.head()"
   ]
  },
  {
   "cell_type": "code",
   "execution_count": 117,
   "metadata": {},
   "outputs": [],
   "source": [
    "#Calculating Batting Average, On Base Percentage & Slugging Percentage For  Postseason Dataframe\n",
    "Post_Batting['BA'] = Post_Batting['H'] / Post_Batting['AB']\n",
    "Post_Batting['OBP'] = (\n",
    "    (Post_Batting['H'] + Post_Batting['BB']  + Post_Batting['HBP']) \n",
    "    / (Post_Batting['AB'] + Post_Batting['BB']  + Post_Batting['HBP'])\n",
    "                               )\n",
    "Post_Batting['SLG']= ( ((Post_Batting['H'] - (Post_Batting['2B'] + Post_Batting['3B'] + Post_Batting['HR']) )\n",
    "                              + 2*Post_Batting['2B'] + 3*Post_Batting['3B'] + 4*Post_Batting['HR'])\n",
    "                            / (Post_Batting['AB'])\n",
    "                            )\n",
    "Post_Batting['OPS']= Post_Batting['SLG'] + Post_Batting['OBP']\n",
    "#Post_Batting.head()"
   ]
  },
  {
   "cell_type": "code",
   "execution_count": 118,
   "metadata": {},
   "outputs": [],
   "source": [
    "#Calculating Batting Average, On Base Percentage & Slugging Percentage For HOF Postseason Dataframe\n",
    "HOF_Post_Batting['BA'] = HOF_Post_Batting['H'] / HOF_Post_Batting['AB']\n",
    "HOF_Post_Batting['OBP'] = (\n",
    "    (HOF_Post_Batting['H'] + HOF_Post_Batting['BB']  + HOF_Post_Batting['HBP']) \n",
    "    / (HOF_Post_Batting['AB'] + HOF_Post_Batting['BB']  + HOF_Post_Batting['HBP'])\n",
    "                               )\n",
    "HOF_Post_Batting['SLG']= ( ((HOF_Post_Batting['H'] - (HOF_Post_Batting['2B'] + HOF_Post_Batting['3B'] + HOF_Post_Batting['HR']) )\n",
    "                              + 2*HOF_Post_Batting['2B'] + 3*HOF_Post_Batting['3B'] + 4*HOF_Post_Batting['HR'])\n",
    "                            / (HOF_Post_Batting['AB'])\n",
    "                            )\n",
    "HOF_Post_Batting['OPS']= HOF_Post_Batting['SLG'] + HOF_Post_Batting['OBP']\n",
    "#HOF_Post_Batting.head()"
   ]
  },
  {
   "cell_type": "code",
   "execution_count": 25,
   "metadata": {},
   "outputs": [],
   "source": [
    "# For the null values fill with 0. \n",
    "Reg_Batting = Reg_Batting.fillna(0)\n",
    "HOF_Batting = HOF_Batting.fillna(0)\n",
    "Post_Batting = Post_Batting.fillna(0)\n",
    "HOF_Post_Batting = HOF_Post_Batting.fillna(0)"
   ]
  },
  {
   "cell_type": "markdown",
   "metadata": {},
   "source": [
    "# ANOVA Analysis\n",
    "* Do the batting statistics differ for Hall of Famers across decades"
   ]
  },
  {
   "cell_type": "code",
   "execution_count": 26,
   "metadata": {},
   "outputs": [
    {
     "data": {
      "text/plain": [
       "F_onewayResult(statistic=1.4311822183121612, pvalue=0.19910242901887523)"
      ]
     },
     "execution_count": 26,
     "metadata": {},
     "output_type": "execute_result"
    }
   ],
   "source": [
    "#ANNOVA Analysis for Slugging Percentage\n",
    "group1 = HOF_Batting[HOF_Batting[\"Decade\"] == '1950'][\"SLG\"]\n",
    "group2 = HOF_Batting[HOF_Batting[\"Decade\"] == '1960'][\"SLG\"]\n",
    "group3 = HOF_Batting[HOF_Batting[\"Decade\"] == '1970'][\"SLG\"]\n",
    "group4 = HOF_Batting[HOF_Batting[\"Decade\"] == '1980'][\"SLG\"]\n",
    "group5 = HOF_Batting[HOF_Batting[\"Decade\"] == '1990'][\"SLG\"]\n",
    "group6 = HOF_Batting[HOF_Batting[\"Decade\"] == '2000'][\"SLG\"]\n",
    "group7 = HOF_Batting[HOF_Batting[\"Decade\"] == '2010'][\"SLG\"]\n",
    "stats.f_oneway(group1, group2, group3, group4, group5, group6, group7)"
   ]
  },
  {
   "cell_type": "code",
   "execution_count": 110,
   "metadata": {},
   "outputs": [
    {
     "data": {
      "text/plain": [
       "F_onewayResult(statistic=1.1573773059802899, pvalue=0.32675534497782976)"
      ]
     },
     "execution_count": 110,
     "metadata": {},
     "output_type": "execute_result"
    }
   ],
   "source": [
    "#ANNOVA Analysis for On Base Percentage\n",
    "group1 = HOF_Batting[HOF_Batting[\"Decade\"] == '1950'][\"OPS\"]\n",
    "group2 = HOF_Batting[HOF_Batting[\"Decade\"] == '1960'][\"OPS\"]\n",
    "group3 = HOF_Batting[HOF_Batting[\"Decade\"] == '1970'][\"OPS\"]\n",
    "group4 = HOF_Batting[HOF_Batting[\"Decade\"] == '1980'][\"OPS\"]\n",
    "group5 = HOF_Batting[HOF_Batting[\"Decade\"] == '1990'][\"OPS\"]\n",
    "group6 = HOF_Batting[HOF_Batting[\"Decade\"] == '2000'][\"OPS\"]\n",
    "group7 = HOF_Batting[HOF_Batting[\"Decade\"] == '2010'][\"OPS\"]\n",
    "stats.f_oneway(group1, group2, group3, group4, group5, group6, group7)"
   ]
  },
  {
   "cell_type": "code",
   "execution_count": 27,
   "metadata": {},
   "outputs": [
    {
     "data": {
      "text/plain": [
       "F_onewayResult(statistic=2.790665518327122, pvalue=0.010601345442628548)"
      ]
     },
     "execution_count": 27,
     "metadata": {},
     "output_type": "execute_result"
    }
   ],
   "source": [
    "#ANNOVA Analysis for Batting Average\n",
    "group1 = HOF_Batting[HOF_Batting[\"Decade\"] == '1950'][\"BA\"]\n",
    "group2 = HOF_Batting[HOF_Batting[\"Decade\"] == '1960'][\"BA\"]\n",
    "group3 = HOF_Batting[HOF_Batting[\"Decade\"] == '1970'][\"BA\"]\n",
    "group4 = HOF_Batting[HOF_Batting[\"Decade\"] == '1980'][\"BA\"]\n",
    "group5 = HOF_Batting[HOF_Batting[\"Decade\"] == '1990'][\"BA\"]\n",
    "group6 = HOF_Batting[HOF_Batting[\"Decade\"] == '2000'][\"BA\"]\n",
    "group7 = HOF_Batting[HOF_Batting[\"Decade\"] == '2010'][\"BA\"]\n",
    "stats.f_oneway(group1, group2, group3, group4, group5, group6, group7)"
   ]
  },
  {
   "cell_type": "code",
   "execution_count": 28,
   "metadata": {},
   "outputs": [
    {
     "data": {
      "text/plain": [
       "F_onewayResult(statistic=4.305895639558722, pvalue=0.0002615070493408894)"
      ]
     },
     "execution_count": 28,
     "metadata": {},
     "output_type": "execute_result"
    }
   ],
   "source": [
    "#ANNOVA Analysis for Home Runs\n",
    "group1 = HOF_Batting[HOF_Batting[\"Decade\"] == '1950'][\"HR\"]\n",
    "group2 = HOF_Batting[HOF_Batting[\"Decade\"] == '1960'][\"HR\"]\n",
    "group3 = HOF_Batting[HOF_Batting[\"Decade\"] == '1970'][\"HR\"]\n",
    "group4 = HOF_Batting[HOF_Batting[\"Decade\"] == '1980'][\"HR\"]\n",
    "group5 = HOF_Batting[HOF_Batting[\"Decade\"] == '1990'][\"HR\"]\n",
    "group6 = HOF_Batting[HOF_Batting[\"Decade\"] == '2000'][\"HR\"]\n",
    "group7 = HOF_Batting[HOF_Batting[\"Decade\"] == '2010'][\"HR\"]\n",
    "stats.f_oneway(group1, group2, group3, group4, group5, group6, group7)"
   ]
  },
  {
   "cell_type": "code",
   "execution_count": 30,
   "metadata": {},
   "outputs": [
    {
     "data": {
      "text/plain": [
       "F_onewayResult(statistic=1.6016536700053854, pvalue=0.14303290261121093)"
      ]
     },
     "execution_count": 30,
     "metadata": {},
     "output_type": "execute_result"
    }
   ],
   "source": [
    "#ANNOVA Analysis for On Base Percentage\n",
    "group1 = HOF_Batting[HOF_Batting[\"Decade\"] == '1950'][\"OBP\"]\n",
    "group2 = HOF_Batting[HOF_Batting[\"Decade\"] == '1960'][\"OBP\"]\n",
    "group3 = HOF_Batting[HOF_Batting[\"Decade\"] == '1970'][\"OBP\"]\n",
    "group4 = HOF_Batting[HOF_Batting[\"Decade\"] == '1980'][\"OBP\"]\n",
    "group5 = HOF_Batting[HOF_Batting[\"Decade\"] == '1990'][\"OBP\"]\n",
    "group6 = HOF_Batting[HOF_Batting[\"Decade\"] == '2000'][\"OBP\"]\n",
    "group7 = HOF_Batting[HOF_Batting[\"Decade\"] == '2010'][\"OBP\"]\n",
    "stats.f_oneway(group1, group2, group3, group4, group5, group6, group7)"
   ]
  },
  {
   "cell_type": "code",
   "execution_count": 72,
   "metadata": {},
   "outputs": [
    {
     "data": {
      "text/plain": [
       "F_onewayResult(statistic=7.0305739975568775, pvalue=2.2192275437853622e-07)"
      ]
     },
     "execution_count": 72,
     "metadata": {},
     "output_type": "execute_result"
    }
   ],
   "source": [
    "#ANNOVA Analysis for Hits\n",
    "group1 = HOF_Batting[HOF_Batting[\"Decade\"] == '1950'][\"H\"]\n",
    "group2 = HOF_Batting[HOF_Batting[\"Decade\"] == '1960'][\"H\"]\n",
    "group3 = HOF_Batting[HOF_Batting[\"Decade\"] == '1970'][\"H\"]\n",
    "group4 = HOF_Batting[HOF_Batting[\"Decade\"] == '1980'][\"H\"]\n",
    "group5 = HOF_Batting[HOF_Batting[\"Decade\"] == '1990'][\"H\"]\n",
    "group6 = HOF_Batting[HOF_Batting[\"Decade\"] == '2000'][\"H\"]\n",
    "group7 = HOF_Batting[HOF_Batting[\"Decade\"] == '2010'][\"H\"]\n",
    "stats.f_oneway(group1, group2, group3, group4, group5, group6, group7)"
   ]
  },
  {
   "cell_type": "markdown",
   "metadata": {},
   "source": [
    "# ANNOVA Results:\n",
    "## There is no statistically significant difference in Slugging %(pvalue=0.199) and OPS% (pvalue= 0.327) between the decades since 1950 for HOF players.\n",
    "## There is a statistically significant difference in Batting Average (pvalue=0.011) and Home Runs (pvalue = 0.001) between the decades since 1950 for HOF players."
   ]
  },
  {
   "cell_type": "code",
   "execution_count": 111,
   "metadata": {},
   "outputs": [
    {
     "data": {
      "text/plain": [
       "<matplotlib.axes._subplots.AxesSubplot at 0x2a7357aa3c8>"
      ]
     },
     "execution_count": 111,
     "metadata": {},
     "output_type": "execute_result"
    },
    {
     "data": {
      "image/png": "[encoded data removed]",
      "text/plain": [
       "<Figure size 1440x720 with 1 Axes>"
      ]
     },
     "metadata": {
      "needs_background": "light"
     },
     "output_type": "display_data"
    }
   ],
   "source": [
    "HOF_Batting.boxplot(\"SLG\", by=\"Decade\", figsize=(20, 10))"
   ]
  },
  {
   "cell_type": "code",
   "execution_count": 112,
   "metadata": {},
   "outputs": [
    {
     "data": {
      "text/plain": [
       "<matplotlib.axes._subplots.AxesSubplot at 0x2a735e74c88>"
      ]
     },
     "execution_count": 112,
     "metadata": {},
     "output_type": "execute_result"
    },
    {
     "data": {
      "image/png": "[encoded data removed]",
      "text/plain": [
       "<Figure size 1440x720 with 1 Axes>"
      ]
     },
     "metadata": {
      "needs_background": "light"
     },
     "output_type": "display_data"
    }
   ],
   "source": [
    "HOF_Batting.boxplot(\"OPS\", by=\"Decade\", figsize=(20, 10))"
   ]
  },
  {
   "cell_type": "code",
   "execution_count": 114,
   "metadata": {},
   "outputs": [
    {
     "data": {
      "text/plain": [
       "<matplotlib.axes._subplots.AxesSubplot at 0x2a73604a390>"
      ]
     },
     "execution_count": 114,
     "metadata": {},
     "output_type": "execute_result"
    },
    {
     "data": {
      "image/png": "[encoded data removed]",
      "text/plain": [
       "<Figure size 1440x720 with 1 Axes>"
      ]
     },
     "metadata": {
      "needs_background": "light"
     },
     "output_type": "display_data"
    }
   ],
   "source": [
    "HOF_Batting.boxplot(\"BA\", by=\"Decade\", figsize=(20, 10))"
   ]
  },
  {
   "cell_type": "code",
   "execution_count": 113,
   "metadata": {},
   "outputs": [
    {
     "data": {
      "text/plain": [
       "<matplotlib.axes._subplots.AxesSubplot at 0x2a735f58390>"
      ]
     },
     "execution_count": 113,
     "metadata": {},
     "output_type": "execute_result"
    },
    {
     "data": {
      "image/png": "[encoded data removed]",
      "text/plain": [
       "<Figure size 1440x720 with 1 Axes>"
      ]
     },
     "metadata": {
      "needs_background": "light"
     },
     "output_type": "display_data"
    }
   ],
   "source": [
    "HOF_Batting.boxplot(\"HR\", by=\"Decade\", figsize=(20, 10))"
   ]
  },
  {
   "cell_type": "markdown",
   "metadata": {},
   "source": [
    "## Calculating Career Level statistics (We are not using these for anything right now)\n",
    "# Delete Eventually"
   ]
  },
  {
   "cell_type": "code",
   "execution_count": 74,
   "metadata": {},
   "outputs": [],
   "source": [
    "#Calculating Batting Average, On Base Percentage & Slugging Percentage For Career Dataframe Add sac flies\n",
    "career_Reg_Batting['BA'] = career_Reg_Batting['H'] / career_Reg_Batting['AB']\n",
    "career_Reg_Batting['OBP'] = (\n",
    "    (career_Reg_Batting['H'] + career_Reg_Batting['BB']  + career_Reg_Batting['HBP']) \n",
    "    / (career_Reg_Batting['AB'] + career_Reg_Batting['BB']  + career_Reg_Batting['HBP'])\n",
    "                               )\n",
    "career_Reg_Batting['SLG']= ( ((career_Reg_Batting['H'] - (career_Reg_Batting['2B'] + career_Reg_Batting['3B'] + career_Reg_Batting['HR']) )\n",
    "                              + 2*career_Reg_Batting['2B'] + 3*career_Reg_Batting['3B'] + 4*career_Reg_Batting['HR'])\n",
    "                            / (career_Reg_Batting['AB'])\n",
    "                            )\n",
    "career_Reg_Batting['OPS']= career_Reg_Batting['SLG'] + career_Reg_Batting['OBP']\n",
    "#career_Reg_Batting.head()"
   ]
  },
  {
   "cell_type": "code",
   "execution_count": 75,
   "metadata": {},
   "outputs": [],
   "source": [
    "#Calculating Batting Average, On Base Percentage & Slugging Percentage For Career HOF Dataframe\n",
    "career_HOF_Batting['BA'] = career_HOF_Batting['H'] / career_HOF_Batting['AB']\n",
    "career_HOF_Batting['OBP'] = (\n",
    "    (career_HOF_Batting['H'] + career_HOF_Batting['BB']  + career_HOF_Batting['HBP']) \n",
    "    / (career_HOF_Batting['AB'] + career_HOF_Batting['BB']  + career_HOF_Batting['HBP'])\n",
    "                               )\n",
    "career_HOF_Batting['SLG']= ( ((career_HOF_Batting['H'] - (career_HOF_Batting['2B'] + career_HOF_Batting['3B'] + career_HOF_Batting['HR']) )\n",
    "                              + 2*career_HOF_Batting['2B'] + 3*career_HOF_Batting['3B'] + 4*career_HOF_Batting['HR'])\n",
    "                            / (career_HOF_Batting['AB'])\n",
    "                            )\n",
    "career_HOF_Batting['OPS']= career_HOF_Batting['SLG'] + career_HOF_Batting['OBP']\n",
    "#career_HOF_Batting.head()"
   ]
  },
  {
   "cell_type": "code",
   "execution_count": 76,
   "metadata": {},
   "outputs": [],
   "source": [
    "#Calculating Batting Average, On Base Percentage & Slugging Percentage For Career Postseason Dataframe\n",
    "career_Post_Batting['BA'] = career_Post_Batting['H'] / career_Post_Batting['AB']\n",
    "career_Post_Batting['OBP'] = (\n",
    "    (career_Post_Batting['H'] + career_Post_Batting['BB']  + career_Post_Batting['HBP']) \n",
    "    / (career_Post_Batting['AB'] + career_Post_Batting['BB']  + career_Post_Batting['HBP'])\n",
    "                               )\n",
    "career_Post_Batting['SLG']= ( ((career_Post_Batting['H'] - (career_Post_Batting['2B'] + career_Post_Batting['3B'] + career_Post_Batting['HR']) )\n",
    "                              + 2*career_Post_Batting['2B'] + 3*career_Post_Batting['3B'] + 4*career_Post_Batting['HR'])\n",
    "                            / (career_Post_Batting['AB'])\n",
    "                            )\n",
    "career_Post_Batting['OPS']= career_Post_Batting['SLG'] + career_Post_Batting['OBP']\n",
    "#career_Post_Batting.head()"
   ]
  },
  {
   "cell_type": "code",
   "execution_count": 77,
   "metadata": {},
   "outputs": [],
   "source": [
    "#Calculating Batting Average, On Base Percentage & Slugging Percentage For Career HOF Postseason Dataframe\n",
    "career_HOF_Post_Batting['BA'] = career_HOF_Post_Batting['H'] / career_HOF_Post_Batting['AB']\n",
    "career_HOF_Post_Batting['OBP'] = (\n",
    "    (career_HOF_Post_Batting['H'] + career_HOF_Post_Batting['BB']  + career_HOF_Post_Batting['HBP']) \n",
    "    / (career_HOF_Post_Batting['AB'] + career_HOF_Post_Batting['BB']  + career_HOF_Post_Batting['HBP'])\n",
    "                               )\n",
    "career_HOF_Post_Batting['SLG']= ( ((career_HOF_Post_Batting['H'] - (career_HOF_Post_Batting['2B'] + career_HOF_Post_Batting['3B'] + career_HOF_Post_Batting['HR']) )\n",
    "                              + 2*career_HOF_Post_Batting['2B'] + 3*career_HOF_Post_Batting['3B'] + 4*career_HOF_Post_Batting['HR'])\n",
    "                            / (career_HOF_Post_Batting['AB'])\n",
    "                            )\n",
    "career_HOF_Post_Batting['OPS']= career_HOF_Post_Batting['SLG'] + career_HOF_Post_Batting['OBP']\n",
    "#career_HOF_Post_Batting.head()"
   ]
  },
  {
   "cell_type": "code",
   "execution_count": 78,
   "metadata": {},
   "outputs": [],
   "source": [
    "#Getting some aggregated summary statistics to better understand the data\n",
    "career_HOF_Batting_summary = career_HOF_Batting.BA.agg(['mean','max', 'min', 'std'])\n",
    "career_HOF_Post_Batting_summary = career_HOF_Post_Batting.BA.agg(['mean','max', 'min', 'std'])\n",
    "career_Reg_Post_Batting_summary =career_Post_Batting.BA.agg(['mean','max', 'min', 'std'])\n",
    "career_Reg_Batting_summary = career_Reg_Batting.BA.agg(['mean','max', 'min', 'std'])"
   ]
  },
  {
   "cell_type": "markdown",
   "metadata": {},
   "source": [
    "# Chi Squared Test\n",
    "## To see representation from each decade in the Hall of Fame\n",
    "### Since player's HOF careers often span across multiple decades they dont belong to any single decade and count them for each decade they played in. We see no reason for the errors to not be normally distributed here so this is a good proxy for HOF representation. We exclude 2000 and 2010 because many of the players that will be inducted have not been for a number of reasons."
   ]
  },
  {
   "cell_type": "code",
   "execution_count": 107,
   "metadata": {},
   "outputs": [
    {
     "data": {
      "text/html": [
       "<div>\n",
       "<style scoped>\n",
       "    .dataframe tbody tr th:only-of-type {\n",
       "        vertical-align: middle;\n",
       "    }\n",
       "\n",
       "    .dataframe tbody tr th {\n",
       "        vertical-align: top;\n",
       "    }\n",
       "\n",
       "    .dataframe thead th {\n",
       "        text-align: right;\n",
       "    }\n",
       "</style>\n",
       "<table border=\"1\" class=\"dataframe\">\n",
       "  <thead>\n",
       "    <tr style=\"text-align: right;\">\n",
       "      <th></th>\n",
       "      <th>Decade</th>\n",
       "      <th>playerID</th>\n",
       "    </tr>\n",
       "  </thead>\n",
       "  <tbody>\n",
       "    <tr>\n",
       "      <th>0</th>\n",
       "      <td>1950</td>\n",
       "      <td>38</td>\n",
       "    </tr>\n",
       "    <tr>\n",
       "      <th>1</th>\n",
       "      <td>1960</td>\n",
       "      <td>33</td>\n",
       "    </tr>\n",
       "    <tr>\n",
       "      <th>2</th>\n",
       "      <td>1970</td>\n",
       "      <td>37</td>\n",
       "    </tr>\n",
       "    <tr>\n",
       "      <th>3</th>\n",
       "      <td>1980</td>\n",
       "      <td>32</td>\n",
       "    </tr>\n",
       "    <tr>\n",
       "      <th>4</th>\n",
       "      <td>1990</td>\n",
       "      <td>29</td>\n",
       "    </tr>\n",
       "    <tr>\n",
       "      <th>5</th>\n",
       "      <td>2000</td>\n",
       "      <td>16</td>\n",
       "    </tr>\n",
       "    <tr>\n",
       "      <th>6</th>\n",
       "      <td>2010</td>\n",
       "      <td>5</td>\n",
       "    </tr>\n",
       "  </tbody>\n",
       "</table>\n",
       "</div>"
      ],
      "text/plain": [
       "  Decade  playerID\n",
       "0   1950        38\n",
       "1   1960        33\n",
       "2   1970        37\n",
       "3   1980        32\n",
       "4   1990        29\n",
       "5   2000        16\n",
       "6   2010         5"
      ]
     },
     "execution_count": 107,
     "metadata": {},
     "output_type": "execute_result"
    }
   ],
   "source": [
    "#Using GroupBy decade to get the number of unique players that played in each decade\n",
    "HOF_per_decade= HOF_Batting.groupby(['Decade']).agg({\n",
    "             'playerID': 'nunique'}).reset_index()\n",
    "HOF_per_decade"
   ]
  },
  {
   "cell_type": "code",
   "execution_count": 108,
   "metadata": {},
   "outputs": [
    {
     "data": {
      "text/html": [
       "<div>\n",
       "<style scoped>\n",
       "    .dataframe tbody tr th:only-of-type {\n",
       "        vertical-align: middle;\n",
       "    }\n",
       "\n",
       "    .dataframe tbody tr th {\n",
       "        vertical-align: top;\n",
       "    }\n",
       "\n",
       "    .dataframe thead th {\n",
       "        text-align: right;\n",
       "    }\n",
       "</style>\n",
       "<table border=\"1\" class=\"dataframe\">\n",
       "  <thead>\n",
       "    <tr style=\"text-align: right;\">\n",
       "      <th></th>\n",
       "      <th>HOF Count</th>\n",
       "      <th>Expected</th>\n",
       "    </tr>\n",
       "    <tr>\n",
       "      <th>Decade</th>\n",
       "      <th></th>\n",
       "      <th></th>\n",
       "    </tr>\n",
       "  </thead>\n",
       "  <tbody>\n",
       "    <tr>\n",
       "      <th>1950</th>\n",
       "      <td>38</td>\n",
       "      <td>33.8</td>\n",
       "    </tr>\n",
       "    <tr>\n",
       "      <th>1960</th>\n",
       "      <td>33</td>\n",
       "      <td>33.8</td>\n",
       "    </tr>\n",
       "    <tr>\n",
       "      <th>1970</th>\n",
       "      <td>37</td>\n",
       "      <td>33.8</td>\n",
       "    </tr>\n",
       "    <tr>\n",
       "      <th>1980</th>\n",
       "      <td>32</td>\n",
       "      <td>33.8</td>\n",
       "    </tr>\n",
       "    <tr>\n",
       "      <th>1990</th>\n",
       "      <td>29</td>\n",
       "      <td>33.8</td>\n",
       "    </tr>\n",
       "  </tbody>\n",
       "</table>\n",
       "</div>"
      ],
      "text/plain": [
       "        HOF Count  Expected\n",
       "Decade                     \n",
       "1950           38      33.8\n",
       "1960           33      33.8\n",
       "1970           37      33.8\n",
       "1980           32      33.8\n",
       "1990           29      33.8"
      ]
     },
     "execution_count": 108,
     "metadata": {},
     "output_type": "execute_result"
    }
   ],
   "source": [
    "#Rename Columns amd insert expected # of HOF players per decade (Sum/# Of decades)*Excluding 2000 and 2010\n",
    "HOF_per_decade.set_index('Decade', inplace=True)\n",
    "HOF_per_decade.rename(columns={'playerID': 'HOF Count'}, inplace=True)\n",
    "HOF_per_decade['Expected'] = 33.8\n",
    "#Drop 2000 and 2010 from df and create a new df for our final df\n",
    "select_HOF_per_decade = HOF_per_decade.drop(['2000', '2010'])\n",
    "select_HOF_per_decade"
   ]
  },
  {
   "cell_type": "code",
   "execution_count": 109,
   "metadata": {},
   "outputs": [
    {
     "data": {
      "text/plain": [
       "9.487729036781154"
      ]
     },
     "execution_count": 109,
     "metadata": {},
     "output_type": "execute_result"
    }
   ],
   "source": [
    "#Calculate the critical value for Chi Squared test with df = 4 (5 decades)\n",
    "critical_value = stats.chi2.ppf(q = 0.95, df = 4)\n",
    "critical_value"
   ]
  },
  {
   "cell_type": "code",
   "execution_count": 56,
   "metadata": {},
   "outputs": [
    {
     "data": {
      "text/plain": [
       "Power_divergenceResult(statistic=1.6213017751479293, pvalue=0.8049585443876979)"
      ]
     },
     "execution_count": 56,
     "metadata": {},
     "output_type": "execute_result"
    }
   ],
   "source": [
    "#Run Chi Squared Test\n",
    "stats.chisquare(select_HOF_per_decade['HOF Count'], select_HOF_per_decade['Expected'])"
   ]
  },
  {
   "cell_type": "markdown",
   "metadata": {},
   "source": [
    "# Chi Squared Findings\n",
    "* Critical value = 9.488, Statistic = 1.621, P-Value = 0.805\n",
    "* There is no significant difference in HOF representation across the decades. Though the 90s has a lower than expected number of HOF players, likely due to steroid controversy surrounding the best players.\n",
    "* We Exlude the 2000s and 2010s because many players that will be inducted simply have not gotten there yet due to the ballot process and wait that most players must go through to be inducted."
   ]
  },
  {
   "cell_type": "markdown",
   "metadata": {},
   "source": [
    "# Do Hall of Famers Change their performance in the postseason?\n",
    "*Calculate aggreagate stats for HOF and HOF Post and then do students T tests to see if they are different\n",
    "*Do the same for all players\n",
    "*SLG%"
   ]
  },
  {
   "cell_type": "code",
   "execution_count": 57,
   "metadata": {},
   "outputs": [],
   "source": [
    "#Extract Stat Columns so we can run t-tests \n",
    "#Hall of fame players\n",
    "HOF_Slugging = HOF_Batting['SLG'].values\n",
    "HOF_Post_Slugging = HOF_Post_Batting['SLG'].values\n",
    "HOF_BA = HOF_Batting['BA'].values\n",
    "HOF_Post_BA = HOF_Post_Batting['BA'].values\n",
    "#All Players\n",
    "Reg_Slugging = Reg_Batting['SLG'].values\n",
    "Reg_Post_Slugging = Post_Batting['SLG'].values\n",
    "Reg_BA = Reg_Batting['BA'].values\n",
    "Reg_Post_BA = Post_Batting['BA'].values"
   ]
  },
  {
   "cell_type": "code",
   "execution_count": 58,
   "metadata": {},
   "outputs": [],
   "source": [
    "#Get the means of stat columns so we can do some comparisons and illustrations\n",
    "#Hall of fame players\n",
    "M_HOF_Slugging = HOF_Batting['SLG'].mean()\n",
    "M_HOF_Post_Slugging = HOF_Post_Batting['SLG'].mean()\n",
    "M_HOF_BA = HOF_Batting['BA'].mean()\n",
    "M_HOF_Post_BA = HOF_Post_Batting['BA'].mean()\n",
    "#All Players\n",
    "M_Reg_Slugging = Reg_Batting['SLG'].mean()\n",
    "M_Reg_Post_Slugging = Post_Batting['SLG'].mean()\n",
    "M_Reg_BA = Reg_Batting['BA'].mean()\n",
    "M_Reg_Post_BA = Post_Batting['BA'].mean()"
   ]
  },
  {
   "cell_type": "code",
   "execution_count": 59,
   "metadata": {},
   "outputs": [
    {
     "data": {
      "text/plain": [
       "Ttest_indResult(statistic=2.4938548673539205, pvalue=0.012972336841230189)"
      ]
     },
     "execution_count": 59,
     "metadata": {},
     "output_type": "execute_result"
    }
   ],
   "source": [
    "stats.ttest_ind(HOF_Slugging, HOF_Post_Slugging, equal_var=False)"
   ]
  },
  {
   "cell_type": "code",
   "execution_count": 60,
   "metadata": {},
   "outputs": [
    {
     "data": {
      "text/plain": [
       "Ttest_indResult(statistic=2.8044443498020604, pvalue=0.005248278159608443)"
      ]
     },
     "execution_count": 60,
     "metadata": {},
     "output_type": "execute_result"
    }
   ],
   "source": [
    "stats.ttest_ind(HOF_BA, HOF_Post_BA, equal_var=False)"
   ]
  },
  {
   "cell_type": "code",
   "execution_count": 61,
   "metadata": {},
   "outputs": [
    {
     "data": {
      "text/plain": [
       "Ttest_indResult(statistic=4.037753608676826, pvalue=5.445254962284191e-05)"
      ]
     },
     "execution_count": 61,
     "metadata": {},
     "output_type": "execute_result"
    }
   ],
   "source": [
    "stats.ttest_ind(Reg_Slugging, Reg_Post_Slugging, equal_var=False)"
   ]
  },
  {
   "cell_type": "code",
   "execution_count": 62,
   "metadata": {},
   "outputs": [
    {
     "data": {
      "text/plain": [
       "Ttest_indResult(statistic=8.54388924045009, pvalue=1.52812345259628e-17)"
      ]
     },
     "execution_count": 62,
     "metadata": {},
     "output_type": "execute_result"
    }
   ],
   "source": [
    "stats.ttest_ind(Reg_BA, Reg_Post_BA, equal_var=False)"
   ]
  },
  {
   "cell_type": "code",
   "execution_count": 63,
   "metadata": {},
   "outputs": [],
   "source": [
    "#Calculating differences between various stats to illustrate changes in performance\n",
    "SLG_DIF = [M_HOF_Slugging, M_HOF_Post_Slugging, M_Reg_Slugging,M_Reg_Post_Slugging]\n",
    "BA_DIF = [M_HOF_BA, M_HOF_Post_BA, M_Reg_BA, M_Reg_Post_BA]\n",
    "HOF_SLG_DIF = M_HOF_Post_Slugging - M_HOF_Slugging \n",
    "HOF_BA_DIF = M_HOF_Post_BA - M_HOF_BA\n",
    "REG_SLG_DIF = M_Reg_Post_Slugging - M_Reg_Slugging\n",
    "REG_BA_DIF = M_Reg_Post_BA - M_Reg_BA\n",
    "HOF_SLG_DIF, HOF_BA_DIF,REG_SLG_DIF, REG_BA_DIF\n",
    "DIFS= [HOF_SLG_DIF, REG_SLG_DIF, HOF_BA_DIF, REG_BA_DIF]\n"
   ]
  },
  {
   "cell_type": "code",
   "execution_count": 67,
   "metadata": {},
   "outputs": [
    {
     "data": {
      "text/plain": [
       "Text(0, 0.5, '%')"
      ]
     },
     "execution_count": 67,
     "metadata": {},
     "output_type": "execute_result"
    },
    {
     "data": {
      "image/png": "[encoded data removed]",
      "text/plain": [
       "<Figure size 432x288 with 1 Axes>"
      ]
     },
     "metadata": {
      "needs_background": "light"
     },
     "output_type": "display_data"
    }
   ],
   "source": [
    "#Bar Chart for slugging statistics for regular & post-season and hof and all players\n",
    "SLG_labels = [\"HOF Slugging\", \"HOF Post-Season Slugging\", \"All Slugging\", \"All Post-Season Slugging\"]\n",
    "SLG_x_axis = np.arange(len(SLG_DIF))\n",
    "plt.bar( SLG_x_axis,SLG_DIF, color=\"rbrb\", align=\"center\")\n",
    "tick_locations = [value for value in SLG_x_axis]\n",
    "plt.xticks(tick_locations, SLG_labels, rotation = 'vertical')\n",
    "plt.title(\"INSERT\")\n",
    "plt.xlabel(\"INSERT\")\n",
    "plt.ylabel(\"%\")"
   ]
  },
  {
   "cell_type": "code",
   "execution_count": 70,
   "metadata": {},
   "outputs": [
    {
     "data": {
      "text/plain": [
       "Text(0, 0.5, '%')"
      ]
     },
     "execution_count": 70,
     "metadata": {},
     "output_type": "execute_result"
    },
    {
     "data": {
      "image/png": "[encoded data removed]",
      "text/plain": [
       "<Figure size 432x288 with 1 Axes>"
      ]
     },
     "metadata": {
      "needs_background": "light"
     },
     "output_type": "display_data"
    }
   ],
   "source": [
    "#Bar Chart for BA statistics for regular & post-season and hof and all players\n",
    "BA_labels = [\"HOF BA\", \"HOF Post-Season BA\", \"All BA\", \"All Post-Season BA\"]\n",
    "BA_x_axis = np.arange(len(SLG_DIF))\n",
    "plt.bar( BA_x_axis, BA_DIF, color=\"rbrb\", align=\"center\")\n",
    "tick_locations = [value for value in BA_x_axis]\n",
    "plt.xticks(tick_locations, BA_labels, rotation = 'vertical')\n",
    "plt.title(\"INSERT\")\n",
    "plt.xlabel(\"INSERT\")\n",
    "plt.ylabel(\"%\")"
   ]
  },
  {
   "cell_type": "code",
   "execution_count": 69,
   "metadata": {},
   "outputs": [
    {
     "data": {
      "text/plain": [
       "Text(0, 0.5, '%')"
      ]
     },
     "execution_count": 69,
     "metadata": {},
     "output_type": "execute_result"
    },
    {
     "data": {
      "image/png": "[encoded data removed]",
      "text/plain": [
       "<Figure size 432x288 with 1 Axes>"
      ]
     },
     "metadata": {
      "needs_background": "light"
     },
     "output_type": "display_data"
    }
   ],
   "source": [
    "#Bar Chart for BA and SLG differences between HOF and All players in regular season vs post-season\n",
    "DIFS_labels = [\"HOF SLG Difference\",  \"All SLG Difference\", \"HOF BA Difference\", \"All BA Difference\" ]\n",
    "DIFS_x_axis = np.arange(len(DIFS))\n",
    "plt.bar(DIFS_x_axis,DIFS, color=\"rbrb\", align=\"center\")\n",
    "tick_locations = [value for value in DIFS_x_axis]\n",
    "plt.xticks(tick_locations, DIFS_labels, rotation = 'vertical')\n",
    "plt.title(\"Statistical Differences in Reg Season vs Post Season (HOF and Overall)\")\n",
    "plt.xlabel(\"Stat\")\n",
    "plt.ylabel(\"%\")"
   ]
  },
  {
   "cell_type": "markdown",
   "metadata": {},
   "source": [
    "# Findings: Changes in player performance Regular Season to Post-Season\n",
    "* Hall Of Fame players Slugging Percentage and Batting Averages are statistically significantly worse in the post season than the regular season\n",
    "* All players Slugging Percentage and Batting averages are statistically significantly worse in the post season than the regular season\n",
    "* The decrease in Hall of Famers' stats in the post season is greater than that of All players"
   ]
  },
  {
   "cell_type": "code",
   "execution_count": null,
   "metadata": {},
   "outputs": [],
   "source": []
  }
 ],
 "metadata": {
  "kernelspec": {
   "display_name": "Python [conda env:root] *",
   "language": "python",
   "name": "conda-root-py"
  },
  "language_info": {
   "codemirror_mode": {
    "name": "ipython",
    "version": 3
   },
   "file_extension": ".py",
   "mimetype": "text/x-python",
   "name": "python",
   "nbconvert_exporter": "python",
   "pygments_lexer": "ipython3",
   "version": "3.7.3"
  }
 },
 "nbformat": 4,
 "nbformat_minor": 2
}
