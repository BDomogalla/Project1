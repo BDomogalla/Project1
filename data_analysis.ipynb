{
 "cells": [
  {
   "cell_type": "code",
   "execution_count": 1,
   "metadata": {},
   "outputs": [],
   "source": [
    "%matplotlib inline\n",
    "import pandas as pd\n",
    "import matplotlib.pyplot as plt\n",
    "import scipy.stats as stats\n",
    "import numpy as np"
   ]
  },
  {
   "cell_type": "code",
   "execution_count": 2,
   "metadata": {},
   "outputs": [],
   "source": [
    "#Importing data into dataframes\n",
    "HOF_Batting = pd.read_csv('Output/sorted_hof_pp_rs_stats.csv')\n",
    "HOF_Post_Batting = pd.read_csv('Output/sorted_hof_pp_ps_stats.csv')\n",
    "Post_Batting = pd.read_csv('Output/sorted_pp_ps_stats.csv')\n",
    "Reg_Batting = pd.read_csv('Output/sorted_pp_rs_stats.csv')\n"
   ]
  },
  {
   "cell_type": "code",
   "execution_count": 3,
   "metadata": {},
   "outputs": [],
   "source": [
    "#We want to eliminate players with too few at bats and no real statistics for regular season and post-season\n",
    "HOF_Batting = HOF_Batting.loc[HOF_Batting['AB'] >= 50]\n",
    "HOF_Post_Batting = HOF_Post_Batting.loc[HOF_Post_Batting['AB'] >= 1]\n",
    "Post_Batting = Post_Batting.loc[Post_Batting['AB'] >= 1]\n",
    "Reg_Batting = Reg_Batting.loc[Reg_Batting['AB'] >= 50]"
   ]
  },
  {
   "cell_type": "markdown",
   "metadata": {},
   "source": [
    "# Creating Decades column for each dataset"
   ]
  },
  {
   "cell_type": "code",
   "execution_count": 72,
   "metadata": {},
   "outputs": [],
   "source": [
    "#Create decades column for Regular Season Batting\n",
    "conditions = [(Reg_Batting[\"yearID\"] >= 1950) & (Reg_Batting['yearID'] < 1960), \n",
    "              (Reg_Batting[\"yearID\"] >= 1960) & (Reg_Batting[\"yearID\"] < 1970),\n",
    "               (Reg_Batting[\"yearID\"] >= 1970) & (Reg_Batting[\"yearID\"] < 1980), \n",
    "              (Reg_Batting[\"yearID\"] >= 1980) & (Reg_Batting[\"yearID\"] < 1990),\n",
    "               (Reg_Batting[\"yearID\"] >= 1990) & (Reg_Batting[\"yearID\"] < 2000),\n",
    "              (Reg_Batting[\"yearID\"] >= 2000) & (Reg_Batting[\"yearID\"] < 2010),\n",
    "               Reg_Batting[\"yearID\"] < 2020\n",
    "             ]\n",
    "choices     = ['1950', '1960', '1970','1980', '1990','2000', '2010']\n",
    "Reg_Batting[\"Decade\"] = np.select(conditions, choices, default=np.nan)\n",
    "#Reg_Batting.head()"
   ]
  },
  {
   "cell_type": "code",
   "execution_count": 5,
   "metadata": {},
   "outputs": [],
   "source": [
    "#Create decades column for Hall of Fame regular season batting\n",
    "conditions = [(HOF_Batting[\"yearID\"] >= 1950) & (HOF_Batting['yearID'] < 1960), (HOF_Batting[\"yearID\"] >= 1960) & (HOF_Batting[\"yearID\"] < 1970),\n",
    "               (HOF_Batting[\"yearID\"] >= 1970) & (HOF_Batting[\"yearID\"] < 1980), (HOF_Batting[\"yearID\"] >= 1980) & (HOF_Batting[\"yearID\"] < 1990),\n",
    "               (HOF_Batting[\"yearID\"] >= 1990) & (HOF_Batting[\"yearID\"] < 2000), (HOF_Batting[\"yearID\"] >= 2000) & (HOF_Batting[\"yearID\"] < 2010),\n",
    "               HOF_Batting[\"yearID\"] < 2020\n",
    "             ]\n",
    "choices     = ['1950', '1960', '1970','1980', '1990','2000', '2010']\n",
    "HOF_Batting[\"Decade\"] = np.select(conditions, choices, default=np.nan)\n",
    "#HOF_Batting"
   ]
  },
  {
   "cell_type": "code",
   "execution_count": 6,
   "metadata": {},
   "outputs": [],
   "source": [
    "#Create decades column for Post Season Batting\n",
    "conditions = [ (Post_Batting[\"yearID\"] >= 1950) & (Post_Batting['yearID'] < 1960), (Post_Batting[\"yearID\"] >= 1960) & (Post_Batting[\"yearID\"] < 1970),\n",
    "               (Post_Batting[\"yearID\"] >= 1970) & (Post_Batting[\"yearID\"] < 1980), (Post_Batting[\"yearID\"] >= 1980) & (Post_Batting[\"yearID\"] < 1990),\n",
    "               (Post_Batting[\"yearID\"] >= 1990) & (Post_Batting[\"yearID\"] < 2000), (Post_Batting[\"yearID\"] >= 2000) & (Post_Batting[\"yearID\"] < 2010),\n",
    "               Post_Batting[\"yearID\"] < 2020\n",
    "             ]\n",
    "choices     = ['1950', '1960', '1970','1980', '1990','2000', '2010']\n",
    "Post_Batting[\"Decade\"] = np.select(conditions, choices, default=np.nan)\n",
    "#Post_Batting"
   ]
  },
  {
   "cell_type": "code",
   "execution_count": 7,
   "metadata": {},
   "outputs": [],
   "source": [
    "#Create decades column for Hall of Fame Post-season Batting\n",
    "conditions = [(HOF_Post_Batting[\"yearID\"] >= 1950) & (HOF_Post_Batting['yearID'] < 1960), (HOF_Post_Batting[\"yearID\"] >= 1960) & (HOF_Post_Batting[\"yearID\"] < 1970),\n",
    "               (HOF_Post_Batting[\"yearID\"] >= 1970) & (HOF_Post_Batting[\"yearID\"] < 1980), (HOF_Post_Batting[\"yearID\"] >= 1980) & (HOF_Post_Batting[\"yearID\"] < 1990),\n",
    "               (HOF_Post_Batting[\"yearID\"] >= 1990) & (HOF_Post_Batting[\"yearID\"] < 2000), (HOF_Post_Batting[\"yearID\"] >= 2000) & (HOF_Post_Batting[\"yearID\"] < 2010),\n",
    "               HOF_Post_Batting[\"yearID\"] < 2020\n",
    "             ]\n",
    "choices     = ['1950', '1960', '1970','1980', '1990','2000', '2010']\n",
    "HOF_Post_Batting[\"Decade\"] = np.select(conditions, choices, default=np.nan)\n",
    "#HOF_Post_Batting"
   ]
  },
  {
   "cell_type": "markdown",
   "metadata": {},
   "source": [
    "# Aggregating stats by Decade for HOF/ALL and regular season/ post-season\n"
   ]
  },
  {
   "cell_type": "code",
   "execution_count": 8,
   "metadata": {},
   "outputs": [],
   "source": [
    "#Using GroupBy playerID to aggregate statistics by the decade\n",
    "decade_Reg_Batting = Reg_Batting.groupby(['Decade']).agg({\n",
    "             'G': 'sum',\n",
    "             'AB' : 'sum',\n",
    "             'R': 'sum',\n",
    "             'H' : 'sum',\n",
    "             '2B':'sum',\n",
    "             '3B' :'sum',\n",
    "             'HR': 'sum',\n",
    "             'RBI': 'sum',\n",
    "             'BB' :'sum',\n",
    "             'IBB': 'sum',\n",
    "             'HBP':'sum',\n",
    "}).reset_index()\n",
    "#decade_Reg_Batting.head()"
   ]
  },
  {
   "cell_type": "code",
   "execution_count": 9,
   "metadata": {},
   "outputs": [],
   "source": [
    "#Using GroupBy playerID to aggregate statistics by the decade\n",
    "decade_Post_Batting = Post_Batting.groupby(['Decade']).agg({\n",
    "             'G': 'sum',\n",
    "             'AB' : 'sum',\n",
    "             'R': 'sum',\n",
    "             'H' : 'sum',\n",
    "             '2B':'sum',\n",
    "             '3B' :'sum',\n",
    "             'HR': 'sum',\n",
    "             'RBI': 'sum',\n",
    "             'BB' :'sum',\n",
    "             'IBB': 'sum',\n",
    "             'HBP':'sum',\n",
    "}).reset_index()\n",
    "#decade_Post_Batting.head()"
   ]
  },
  {
   "cell_type": "code",
   "execution_count": 10,
   "metadata": {},
   "outputs": [],
   "source": [
    "#Using GroupBy playerID to aggregate statistics by the decade\n",
    "decade_HOF_Batting = HOF_Batting.groupby(['Decade']).agg({\n",
    "             'G': 'sum',\n",
    "             'AB' : 'sum',\n",
    "             'R': 'sum',\n",
    "             'H' : 'sum',\n",
    "             '2B':'sum',\n",
    "             '3B' :'sum',\n",
    "             'HR': 'sum',\n",
    "             'RBI': 'sum',\n",
    "             'BB' :'sum',\n",
    "             'IBB': 'sum',\n",
    "             'HBP':'sum',\n",
    "}).reset_index()\n",
    "#decade_HOF_Batting.head()"
   ]
  },
  {
   "cell_type": "code",
   "execution_count": 11,
   "metadata": {},
   "outputs": [],
   "source": [
    "#Using GroupBy playerID to aggregate statistics by the decade\n",
    "decade_HOF_Post_Batting = HOF_Post_Batting.groupby(['Decade']).agg({\n",
    "             'G': 'sum',\n",
    "             'AB' : 'sum',\n",
    "             'R': 'sum',\n",
    "             'H' : 'sum',\n",
    "             '2B':'sum',\n",
    "             '3B' :'sum',\n",
    "             'HR': 'sum',\n",
    "             'RBI': 'sum',\n",
    "             'BB' :'sum',\n",
    "             'IBB': 'sum',\n",
    "             'HBP':'sum',\n",
    "}).reset_index()\n",
    "#decade_HOF_Post_Batting.head()"
   ]
  },
  {
   "cell_type": "markdown",
   "metadata": {},
   "source": [
    "# Calculating Batting Stats (By decade and all data)\n"
   ]
  },
  {
   "cell_type": "code",
   "execution_count": 75,
   "metadata": {},
   "outputs": [],
   "source": [
    "#Calculating Batting Average, On Base Percentage & Slugging Percentage For Decades Dataframes\n",
    "decade_Reg_Batting['BA'] = decade_Reg_Batting['H'] / decade_Reg_Batting['AB']\n",
    "decade_Reg_Batting['OBP'] = (\n",
    "    (decade_Reg_Batting['H'] + decade_Reg_Batting['BB']  + decade_Reg_Batting['HBP']) \n",
    "    / (decade_Reg_Batting['AB'] + decade_Reg_Batting['BB']  + decade_Reg_Batting['HBP'])\n",
    "                               )\n",
    "decade_Reg_Batting['SLG']= ( ((decade_Reg_Batting['H'] - (decade_Reg_Batting['2B'] + decade_Reg_Batting['3B'] \n",
    "                                + decade_Reg_Batting['HR']) )\n",
    "                                + 2*decade_Reg_Batting['2B'] + 3*decade_Reg_Batting['3B'] + 4*decade_Reg_Batting['HR'])\n",
    "                                / (decade_Reg_Batting['AB'])\n",
    "                               )\n",
    "decade_Reg_Batting['OPS']= decade_Reg_Batting['SLG'] + decade_Reg_Batting['OBP']\n",
    "#decade_Reg_Batting.head()"
   ]
  },
  {
   "cell_type": "code",
   "execution_count": 13,
   "metadata": {},
   "outputs": [],
   "source": [
    "#Calculating Batting Average, On Base Percentage & Slugging Percentage For Decades Dataframes\n",
    "decade_Post_Batting['BA'] = decade_Post_Batting['H'] / decade_Post_Batting['AB']\n",
    "decade_Post_Batting['OBP'] = (\n",
    "    (decade_Post_Batting['H'] + decade_Post_Batting['BB']  + decade_Post_Batting['HBP']) \n",
    "    / (decade_Post_Batting['AB'] + decade_Post_Batting['BB']  + decade_Post_Batting['HBP'])\n",
    "                               )\n",
    "decade_Post_Batting['SLG']= ( ((decade_Post_Batting['H'] - (decade_Post_Batting['2B'] + decade_Post_Batting['3B'] + decade_Post_Batting['HR']) )\n",
    "                              + 2*decade_Post_Batting['2B'] + 3*decade_Post_Batting['3B'] + 4*decade_Post_Batting['HR'])\n",
    "                            / (decade_Post_Batting['AB'])\n",
    "                            )\n",
    "decade_Post_Batting['OPS']= decade_Post_Batting['SLG'] + decade_Post_Batting['OBP']\n",
    "#decade_Post_Batting.head()"
   ]
  },
  {
   "cell_type": "code",
   "execution_count": 14,
   "metadata": {},
   "outputs": [],
   "source": [
    "#Calculating Batting Average, On Base Percentage & Slugging Percentage For Decades Dataframes\n",
    "decade_HOF_Batting['BA'] = decade_HOF_Batting['H'] / decade_HOF_Batting['AB']\n",
    "decade_HOF_Batting['OBP'] = (\n",
    "    (decade_HOF_Batting['H'] + decade_HOF_Batting['BB']  + decade_HOF_Batting['HBP']) \n",
    "    / (decade_HOF_Batting['AB'] + decade_HOF_Batting['BB']  + decade_HOF_Batting['HBP'])\n",
    "                               )\n",
    "decade_HOF_Batting['SLG']= ( ((decade_HOF_Batting['H'] - (decade_HOF_Batting['2B'] + decade_HOF_Batting['3B'] + decade_HOF_Batting['HR']) )\n",
    "                              + 2*decade_HOF_Batting['2B'] + 3*decade_HOF_Batting['3B'] + 4*decade_HOF_Batting['HR'])\n",
    "                            / (decade_HOF_Batting['AB'])\n",
    "                            )\n",
    "decade_HOF_Batting['OPS']= decade_HOF_Batting['SLG'] + decade_HOF_Batting['OBP']\n",
    "#decade_HOF_Batting"
   ]
  },
  {
   "cell_type": "code",
   "execution_count": 15,
   "metadata": {},
   "outputs": [],
   "source": [
    "#Calculating Batting Average, On Base Percentage & Slugging Percentage For Decades Dataframes\n",
    "decade_HOF_Post_Batting['BA'] = decade_HOF_Post_Batting['H'] / decade_HOF_Post_Batting['AB']\n",
    "decade_HOF_Post_Batting['OBP'] = (\n",
    "    (decade_HOF_Post_Batting['H'] + decade_HOF_Post_Batting['BB']  + decade_HOF_Post_Batting['HBP']) \n",
    "    / (decade_HOF_Post_Batting['AB'] + decade_HOF_Post_Batting['BB']  + decade_HOF_Post_Batting['HBP'])\n",
    "                               )\n",
    "decade_HOF_Post_Batting['SLG']= ( ((decade_HOF_Post_Batting['H'] - (decade_HOF_Post_Batting['2B'] + decade_HOF_Post_Batting['3B'] + decade_HOF_Post_Batting['HR']) )\n",
    "                              + 2*decade_HOF_Post_Batting['2B'] + 3*decade_HOF_Post_Batting['3B'] + 4*decade_HOF_Post_Batting['HR'])\n",
    "                            / (decade_HOF_Post_Batting['AB'])\n",
    "                            )\n",
    "decade_HOF_Post_Batting['OPS']= decade_HOF_Post_Batting['SLG'] + decade_HOF_Post_Batting['OBP']\n",
    "#decade_HOF_Post_Batting"
   ]
  },
  {
   "cell_type": "code",
   "execution_count": 16,
   "metadata": {},
   "outputs": [],
   "source": [
    "#Calculating Batting Average, On Base Percentage & Slugging Percentage For Regular season Dataframe\n",
    "Reg_Batting['BA'] = Reg_Batting['H'] / Reg_Batting['AB']\n",
    "Reg_Batting['OBP'] = (\n",
    "    (Reg_Batting['H'] + Reg_Batting['BB']  + Reg_Batting['HBP']) \n",
    "    / (Reg_Batting['AB'] + Reg_Batting['BB']  + Reg_Batting['HBP'])\n",
    "                               )\n",
    "Reg_Batting['SLG']= ( ((Reg_Batting['H'] - (Reg_Batting['2B'] + Reg_Batting['3B'] + Reg_Batting['HR']) )\n",
    "                              + 2*Reg_Batting['2B'] + 3*Reg_Batting['3B'] + 4*Reg_Batting['HR'])\n",
    "                            / (Reg_Batting['AB'])\n",
    "                            )\n",
    "Reg_Batting['OPS']= Reg_Batting['SLG'] + Reg_Batting['OBP']\n",
    "#Reg_Batting.head()"
   ]
  },
  {
   "cell_type": "code",
   "execution_count": 17,
   "metadata": {},
   "outputs": [],
   "source": [
    "#Calculating Batting Average, On Base Percentage & Slugging Percentage For HOF Dataframe\n",
    "HOF_Batting['BA'] = HOF_Batting['H'] / HOF_Batting['AB']\n",
    "HOF_Batting['OBP'] = (\n",
    "    (HOF_Batting['H'] + HOF_Batting['BB']  + HOF_Batting['HBP']) \n",
    "    / (HOF_Batting['AB'] + HOF_Batting['BB']  + HOF_Batting['HBP'])\n",
    "                               )\n",
    "HOF_Batting['SLG']= ( ((HOF_Batting['H'] - (HOF_Batting['2B'] + HOF_Batting['3B'] + HOF_Batting['HR']) )\n",
    "                              + 2*HOF_Batting['2B'] + 3*HOF_Batting['3B'] + 4*HOF_Batting['HR'])\n",
    "                            / (HOF_Batting['AB'])\n",
    "                            )\n",
    "HOF_Batting['OPS']= HOF_Batting['SLG'] + HOF_Batting['OBP']\n",
    "#HOF_Batting.head()"
   ]
  },
  {
   "cell_type": "code",
   "execution_count": 18,
   "metadata": {},
   "outputs": [],
   "source": [
    "#Calculating Batting Average, On Base Percentage & Slugging Percentage For  Postseason Dataframe\n",
    "Post_Batting['BA'] = Post_Batting['H'] / Post_Batting['AB']\n",
    "Post_Batting['OBP'] = (\n",
    "    (Post_Batting['H'] + Post_Batting['BB']  + Post_Batting['HBP']) \n",
    "    / (Post_Batting['AB'] + Post_Batting['BB']  + Post_Batting['HBP'])\n",
    "                               )\n",
    "Post_Batting['SLG']= ( ((Post_Batting['H'] - (Post_Batting['2B'] + Post_Batting['3B'] + Post_Batting['HR']) )\n",
    "                              + 2*Post_Batting['2B'] + 3*Post_Batting['3B'] + 4*Post_Batting['HR'])\n",
    "                            / (Post_Batting['AB'])\n",
    "                            )\n",
    "Post_Batting['OPS']= Post_Batting['SLG'] + Post_Batting['OBP']\n",
    "#Post_Batting.head()"
   ]
  },
  {
   "cell_type": "code",
   "execution_count": 19,
   "metadata": {},
   "outputs": [],
   "source": [
    "#Calculating Batting Average, On Base Percentage & Slugging Percentage For HOF Postseason Dataframe\n",
    "HOF_Post_Batting['BA'] = HOF_Post_Batting['H'] / HOF_Post_Batting['AB']\n",
    "HOF_Post_Batting['OBP'] = (\n",
    "    (HOF_Post_Batting['H'] + HOF_Post_Batting['BB']  + HOF_Post_Batting['HBP']) \n",
    "    / (HOF_Post_Batting['AB'] + HOF_Post_Batting['BB']  + HOF_Post_Batting['HBP'])\n",
    "                               )\n",
    "HOF_Post_Batting['SLG']= ( ((HOF_Post_Batting['H'] - (HOF_Post_Batting['2B'] + HOF_Post_Batting['3B'] + HOF_Post_Batting['HR']) )\n",
    "                              + 2*HOF_Post_Batting['2B'] + 3*HOF_Post_Batting['3B'] + 4*HOF_Post_Batting['HR'])\n",
    "                            / (HOF_Post_Batting['AB'])\n",
    "                            )\n",
    "HOF_Post_Batting['OPS']= HOF_Post_Batting['SLG'] + HOF_Post_Batting['OBP']\n",
    "#HOF_Post_Batting.head()"
   ]
  },
  {
   "cell_type": "code",
   "execution_count": 20,
   "metadata": {},
   "outputs": [],
   "source": [
    "# For the null values fill with 0. \n",
    "Reg_Batting = Reg_Batting.fillna(0)\n",
    "HOF_Batting = HOF_Batting.fillna(0)\n",
    "Post_Batting = Post_Batting.fillna(0)\n",
    "HOF_Post_Batting = HOF_Post_Batting.fillna(0)"
   ]
  },
  {
   "cell_type": "markdown",
   "metadata": {},
   "source": [
    "# ANOVA Analysis\n",
    "* Do the batting statistics differ for Hall of Famers across decades"
   ]
  },
  {
   "cell_type": "code",
   "execution_count": 21,
   "metadata": {},
   "outputs": [
    {
     "data": {
      "text/plain": [
       "F_onewayResult(statistic=1.960536717488326, pvalue=0.06834834497451849)"
      ]
     },
     "execution_count": 21,
     "metadata": {},
     "output_type": "execute_result"
    }
   ],
   "source": [
    "#ANNOVA Analysis for Slugging Percentage\n",
    "group1 = HOF_Batting[HOF_Batting[\"Decade\"] == '1950'][\"SLG\"]\n",
    "group2 = HOF_Batting[HOF_Batting[\"Decade\"] == '1960'][\"SLG\"]\n",
    "group3 = HOF_Batting[HOF_Batting[\"Decade\"] == '1970'][\"SLG\"]\n",
    "group4 = HOF_Batting[HOF_Batting[\"Decade\"] == '1980'][\"SLG\"]\n",
    "group5 = HOF_Batting[HOF_Batting[\"Decade\"] == '1990'][\"SLG\"]\n",
    "group6 = HOF_Batting[HOF_Batting[\"Decade\"] == '2000'][\"SLG\"]\n",
    "group7 = HOF_Batting[HOF_Batting[\"Decade\"] == '2010'][\"SLG\"]\n",
    "stats.f_oneway(group1, group2, group3, group4, group5, group6, group7)"
   ]
  },
  {
   "cell_type": "code",
   "execution_count": 22,
   "metadata": {},
   "outputs": [
    {
     "data": {
      "text/plain": [
       "F_onewayResult(statistic=1.9603914481647398, pvalue=0.06836946998752129)"
      ]
     },
     "execution_count": 22,
     "metadata": {},
     "output_type": "execute_result"
    }
   ],
   "source": [
    "#ANNOVA Analysis for On Base Percentage\n",
    "group1 = HOF_Batting[HOF_Batting[\"Decade\"] == '1950'][\"OPS\"]\n",
    "group2 = HOF_Batting[HOF_Batting[\"Decade\"] == '1960'][\"OPS\"]\n",
    "group3 = HOF_Batting[HOF_Batting[\"Decade\"] == '1970'][\"OPS\"]\n",
    "group4 = HOF_Batting[HOF_Batting[\"Decade\"] == '1980'][\"OPS\"]\n",
    "group5 = HOF_Batting[HOF_Batting[\"Decade\"] == '1990'][\"OPS\"]\n",
    "group6 = HOF_Batting[HOF_Batting[\"Decade\"] == '2000'][\"OPS\"]\n",
    "group7 = HOF_Batting[HOF_Batting[\"Decade\"] == '2010'][\"OPS\"]\n",
    "stats.f_oneway(group1, group2, group3, group4, group5, group6, group7)"
   ]
  },
  {
   "cell_type": "code",
   "execution_count": 23,
   "metadata": {},
   "outputs": [
    {
     "data": {
      "text/plain": [
       "F_onewayResult(statistic=7.5021118380317064, pvalue=6.476799885016043e-08)"
      ]
     },
     "execution_count": 23,
     "metadata": {},
     "output_type": "execute_result"
    }
   ],
   "source": [
    "#ANNOVA Analysis for Batting Average\n",
    "group1 = HOF_Batting[HOF_Batting[\"Decade\"] == '1950'][\"BA\"]\n",
    "group2 = HOF_Batting[HOF_Batting[\"Decade\"] == '1960'][\"BA\"]\n",
    "group3 = HOF_Batting[HOF_Batting[\"Decade\"] == '1970'][\"BA\"]\n",
    "group4 = HOF_Batting[HOF_Batting[\"Decade\"] == '1980'][\"BA\"]\n",
    "group5 = HOF_Batting[HOF_Batting[\"Decade\"] == '1990'][\"BA\"]\n",
    "group6 = HOF_Batting[HOF_Batting[\"Decade\"] == '2000'][\"BA\"]\n",
    "group7 = HOF_Batting[HOF_Batting[\"Decade\"] == '2010'][\"BA\"]\n",
    "stats.f_oneway(group1, group2, group3, group4, group5, group6, group7)"
   ]
  },
  {
   "cell_type": "code",
   "execution_count": 24,
   "metadata": {},
   "outputs": [
    {
     "data": {
      "text/plain": [
       "F_onewayResult(statistic=5.2697099420310165, pvalue=2.2473652946135274e-05)"
      ]
     },
     "execution_count": 24,
     "metadata": {},
     "output_type": "execute_result"
    }
   ],
   "source": [
    "#ANNOVA Analysis for Home Runs\n",
    "group1 = HOF_Batting[HOF_Batting[\"Decade\"] == '1950'][\"HR\"]\n",
    "group2 = HOF_Batting[HOF_Batting[\"Decade\"] == '1960'][\"HR\"]\n",
    "group3 = HOF_Batting[HOF_Batting[\"Decade\"] == '1970'][\"HR\"]\n",
    "group4 = HOF_Batting[HOF_Batting[\"Decade\"] == '1980'][\"HR\"]\n",
    "group5 = HOF_Batting[HOF_Batting[\"Decade\"] == '1990'][\"HR\"]\n",
    "group6 = HOF_Batting[HOF_Batting[\"Decade\"] == '2000'][\"HR\"]\n",
    "group7 = HOF_Batting[HOF_Batting[\"Decade\"] == '2010'][\"HR\"]\n",
    "stats.f_oneway(group1, group2, group3, group4, group5, group6, group7)"
   ]
  },
  {
   "cell_type": "markdown",
   "metadata": {},
   "source": [
    "# ANNOVA Results: \n",
    "## There is no statistically significant difference in Slugging %(pvalue=0.068) and OPS% (pvalue= 0.068) between the decades since 1950 for HOF players.\n",
    "## There is a statistically significant difference in Batting Average (pvalue=6.477e-8) and Home Runs (pvalue = 2.247e-5) between the decades since 1950 for HOF players."
   ]
  },
  {
   "cell_type": "code",
   "execution_count": null,
   "metadata": {},
   "outputs": [],
   "source": []
  },
  {
   "cell_type": "code",
   "execution_count": 76,
   "metadata": {},
   "outputs": [
    {
     "data": {
      "image/png": "[encoded data removed]",
      "text/plain": [
       "<Figure size 1440x720 with 1 Axes>"
      ]
     },
     "metadata": {
      "needs_background": "light"
     },
     "output_type": "display_data"
    }
   ],
   "source": [
    "HOF_Batting.boxplot(\"SLG\", by=\"Decade\", figsize=(20, 10))\n",
    "plt.savefig('Output/slg_box.png')"
   ]
  },
  {
   "cell_type": "code",
   "execution_count": 77,
   "metadata": {},
   "outputs": [
    {
     "data": {
      "image/png": "[encoded data removed]",
      "text/plain": [
       "<Figure size 1440x720 with 1 Axes>"
      ]
     },
     "metadata": {
      "needs_background": "light"
     },
     "output_type": "display_data"
    }
   ],
   "source": [
    "HOF_Batting.boxplot(\"OPS\", by=\"Decade\", figsize=(20, 10))\n",
    "plt.savefig('Output/ops_box.png')"
   ]
  },
  {
   "cell_type": "code",
   "execution_count": 78,
   "metadata": {},
   "outputs": [
    {
     "data": {
      "image/png": "[encoded data removed]",
      "text/plain": [
       "<Figure size 1440x720 with 1 Axes>"
      ]
     },
     "metadata": {
      "needs_background": "light"
     },
     "output_type": "display_data"
    }
   ],
   "source": [
    "HOF_Batting.boxplot(\"BA\", by=\"Decade\", figsize=(20, 10))\n",
    "plt.savefig('Output/ba_box.png')"
   ]
  },
  {
   "cell_type": "code",
   "execution_count": 79,
   "metadata": {},
   "outputs": [
    {
     "data": {
      "image/png": "[encoded data removed]",
      "text/plain": [
       "<Figure size 1440x720 with 1 Axes>"
      ]
     },
     "metadata": {
      "needs_background": "light"
     },
     "output_type": "display_data"
    }
   ],
   "source": [
    "HOF_Batting.boxplot(\"HR\", by=\"Decade\", figsize=(20, 10))\n",
    "plt.savefig('Output/hr_box.png')"
   ]
  },
  {
   "cell_type": "markdown",
   "metadata": {},
   "source": [
    "# Chi Squared Test\n",
    "## To see representation from each decade in the Hall of Fame\n",
    "### Since player's HOF careers often span across multiple decades they dont belong to any single decade and count them for each decade they played in. We see no reason for the errors to not be normally distributed here so this is a good proxy for HOF representation. We exclude 2000 and 2010 because many of the players that will be inducted have not been for a number of reasons."
   ]
  },
  {
   "cell_type": "code",
   "execution_count": 30,
   "metadata": {},
   "outputs": [
    {
     "data": {
      "text/html": [
       "<div>\n",
       "<style scoped>\n",
       "    .dataframe tbody tr th:only-of-type {\n",
       "        vertical-align: middle;\n",
       "    }\n",
       "\n",
       "    .dataframe tbody tr th {\n",
       "        vertical-align: top;\n",
       "    }\n",
       "\n",
       "    .dataframe thead th {\n",
       "        text-align: right;\n",
       "    }\n",
       "</style>\n",
       "<table border=\"1\" class=\"dataframe\">\n",
       "  <thead>\n",
       "    <tr style=\"text-align: right;\">\n",
       "      <th></th>\n",
       "      <th>Decade</th>\n",
       "      <th>playerID</th>\n",
       "    </tr>\n",
       "  </thead>\n",
       "  <tbody>\n",
       "    <tr>\n",
       "      <th>0</th>\n",
       "      <td>1950</td>\n",
       "      <td>37</td>\n",
       "    </tr>\n",
       "    <tr>\n",
       "      <th>1</th>\n",
       "      <td>1960</td>\n",
       "      <td>32</td>\n",
       "    </tr>\n",
       "    <tr>\n",
       "      <th>2</th>\n",
       "      <td>1970</td>\n",
       "      <td>36</td>\n",
       "    </tr>\n",
       "    <tr>\n",
       "      <th>3</th>\n",
       "      <td>1980</td>\n",
       "      <td>31</td>\n",
       "    </tr>\n",
       "    <tr>\n",
       "      <th>4</th>\n",
       "      <td>1990</td>\n",
       "      <td>29</td>\n",
       "    </tr>\n",
       "    <tr>\n",
       "      <th>5</th>\n",
       "      <td>2000</td>\n",
       "      <td>16</td>\n",
       "    </tr>\n",
       "    <tr>\n",
       "      <th>6</th>\n",
       "      <td>2010</td>\n",
       "      <td>5</td>\n",
       "    </tr>\n",
       "  </tbody>\n",
       "</table>\n",
       "</div>"
      ],
      "text/plain": [
       "  Decade  playerID\n",
       "0   1950        37\n",
       "1   1960        32\n",
       "2   1970        36\n",
       "3   1980        31\n",
       "4   1990        29\n",
       "5   2000        16\n",
       "6   2010         5"
      ]
     },
     "execution_count": 30,
     "metadata": {},
     "output_type": "execute_result"
    }
   ],
   "source": [
    "#Using GroupBy decade to get the number of unique players that played in each decade\n",
    "HOF_per_decade= HOF_Batting.groupby(['Decade']).agg({\n",
    "             'playerID': 'nunique'}).reset_index()\n",
    "HOF_per_decade"
   ]
  },
  {
   "cell_type": "code",
   "execution_count": 31,
   "metadata": {},
   "outputs": [
    {
     "data": {
      "text/html": [
       "<div>\n",
       "<style scoped>\n",
       "    .dataframe tbody tr th:only-of-type {\n",
       "        vertical-align: middle;\n",
       "    }\n",
       "\n",
       "    .dataframe tbody tr th {\n",
       "        vertical-align: top;\n",
       "    }\n",
       "\n",
       "    .dataframe thead th {\n",
       "        text-align: right;\n",
       "    }\n",
       "</style>\n",
       "<table border=\"1\" class=\"dataframe\">\n",
       "  <thead>\n",
       "    <tr style=\"text-align: right;\">\n",
       "      <th></th>\n",
       "      <th>HOF Count</th>\n",
       "      <th>Expected</th>\n",
       "    </tr>\n",
       "    <tr>\n",
       "      <th>Decade</th>\n",
       "      <th></th>\n",
       "      <th></th>\n",
       "    </tr>\n",
       "  </thead>\n",
       "  <tbody>\n",
       "    <tr>\n",
       "      <th>1950</th>\n",
       "      <td>37</td>\n",
       "      <td>33</td>\n",
       "    </tr>\n",
       "    <tr>\n",
       "      <th>1960</th>\n",
       "      <td>32</td>\n",
       "      <td>33</td>\n",
       "    </tr>\n",
       "    <tr>\n",
       "      <th>1970</th>\n",
       "      <td>36</td>\n",
       "      <td>33</td>\n",
       "    </tr>\n",
       "    <tr>\n",
       "      <th>1980</th>\n",
       "      <td>31</td>\n",
       "      <td>33</td>\n",
       "    </tr>\n",
       "    <tr>\n",
       "      <th>1990</th>\n",
       "      <td>29</td>\n",
       "      <td>33</td>\n",
       "    </tr>\n",
       "  </tbody>\n",
       "</table>\n",
       "</div>"
      ],
      "text/plain": [
       "        HOF Count  Expected\n",
       "Decade                     \n",
       "1950           37        33\n",
       "1960           32        33\n",
       "1970           36        33\n",
       "1980           31        33\n",
       "1990           29        33"
      ]
     },
     "execution_count": 31,
     "metadata": {},
     "output_type": "execute_result"
    }
   ],
   "source": [
    "#Rename Columns amd insert expected # of HOF players per decade (Sum/# Of decades)*Excluding 2000 and 2010\n",
    "HOF_per_decade.set_index('Decade', inplace=True)\n",
    "HOF_per_decade.rename(columns={'playerID': 'HOF Count'}, inplace=True)\n",
    "HOF_per_decade['Expected'] = 33\n",
    "#Drop 2000 and 2010 from df and create a new df for our final df\n",
    "select_HOF_per_decade = HOF_per_decade.drop(['2000', '2010'])\n",
    "select_HOF_per_decade"
   ]
  },
  {
   "cell_type": "code",
   "execution_count": 32,
   "metadata": {},
   "outputs": [
    {
     "data": {
      "text/plain": [
       "9.487729036781154"
      ]
     },
     "execution_count": 32,
     "metadata": {},
     "output_type": "execute_result"
    }
   ],
   "source": [
    "#Calculate the critical value for Chi Squared test with df = 4 (5 decades)\n",
    "critical_value = stats.chi2.ppf(q = 0.95, df = 4)\n",
    "critical_value"
   ]
  },
  {
   "cell_type": "code",
   "execution_count": 33,
   "metadata": {},
   "outputs": [
    {
     "data": {
      "text/plain": [
       "Power_divergenceResult(statistic=1.393939393939394, pvalue=0.8452476922112548)"
      ]
     },
     "execution_count": 33,
     "metadata": {},
     "output_type": "execute_result"
    }
   ],
   "source": [
    "#Run Chi Squared Test\n",
    "stats.chisquare(select_HOF_per_decade['HOF Count'], select_HOF_per_decade['Expected'])"
   ]
  },
  {
   "cell_type": "markdown",
   "metadata": {},
   "source": [
    "# Chi Squared Findings\n",
    "* Critical value = 9.488, Statistic = 1.621, P-Value = 0.805\n",
    "* There is no significant difference in HOF representation across the decades. Though the 90s has a lower than expected number of HOF players, likely due to steroid controversy surrounding the best players.\n",
    "* We Exlude the 2000s and 2010s because many players that will be inducted simply have not gotten there yet due to the ballot process and wait that most players must go through to be inducted."
   ]
  },
  {
   "cell_type": "markdown",
   "metadata": {},
   "source": [
    "# Do Hall of Famers Change their performance in the postseason?\n",
    "*Calculate aggreagate stats for HOF and HOF Post and then do students T tests to see if they are different\n",
    "*Do the same for all players\n",
    "*SLG%"
   ]
  },
  {
   "cell_type": "code",
   "execution_count": 94,
   "metadata": {},
   "outputs": [],
   "source": [
    "#Extract Stat Columns so we can run t-tests \n",
    "#Hall of fame players\n",
    "HOF_Slugging = HOF_Batting['SLG'].values\n",
    "HOF_Post_Slugging = HOF_Post_Batting['SLG'].values\n",
    "HOF_BA = HOF_Batting['BA'].values\n",
    "HOF_Post_BA = HOF_Post_Batting['BA'].values\n",
    "#All Players\n",
    "Reg_Slugging = Reg_Batting['SLG'].values\n",
    "Reg_Post_Slugging = Post_Batting['SLG'].values\n",
    "Reg_BA = Reg_Batting['BA'].values\n",
    "Reg_Post_BA = Post_Batting['BA'].values"
   ]
  },
  {
   "cell_type": "code",
   "execution_count": 93,
   "metadata": {},
   "outputs": [],
   "source": [
    "#Get the means of stat columns so we can do some comparisons and illustrations\n",
    "#Hall of fame players\n",
    "M_HOF_Slugging = HOF_Batting['SLG'].mean()\n",
    "M_HOF_Post_Slugging = HOF_Post_Batting['SLG'].mean()\n",
    "M_HOF_BA = HOF_Batting['BA'].mean()\n",
    "M_HOF_Post_BA = HOF_Post_Batting['BA'].mean()\n",
    "#All Players\n",
    "M_Reg_Slugging = Reg_Batting['SLG'].mean()\n",
    "M_Reg_Post_Slugging = Post_Batting['SLG'].mean()\n",
    "M_Reg_BA = Reg_Batting['BA'].mean()\n",
    "M_Reg_Post_BA = Post_Batting['BA'].mean()"
   ]
  },
  {
   "cell_type": "code",
   "execution_count": 36,
   "metadata": {},
   "outputs": [
    {
     "data": {
      "text/plain": [
       "Ttest_indResult(statistic=2.679575039646556, pvalue=0.007644108577467748)"
      ]
     },
     "execution_count": 36,
     "metadata": {},
     "output_type": "execute_result"
    }
   ],
   "source": [
    "stats.ttest_ind(HOF_Slugging, HOF_Post_Slugging, equal_var=False)"
   ]
  },
  {
   "cell_type": "code",
   "execution_count": 37,
   "metadata": {},
   "outputs": [
    {
     "data": {
      "text/plain": [
       "Ttest_indResult(statistic=2.853292037667471, pvalue=0.00453513265488836)"
      ]
     },
     "execution_count": 37,
     "metadata": {},
     "output_type": "execute_result"
    }
   ],
   "source": [
    "stats.ttest_ind(HOF_BA, HOF_Post_BA, equal_var=False)"
   ]
  },
  {
   "cell_type": "code",
   "execution_count": 38,
   "metadata": {},
   "outputs": [
    {
     "data": {
      "text/plain": [
       "Ttest_indResult(statistic=6.574684091419443, pvalue=5.208054259418868e-11)"
      ]
     },
     "execution_count": 38,
     "metadata": {},
     "output_type": "execute_result"
    }
   ],
   "source": [
    "stats.ttest_ind(Reg_Slugging, Reg_Post_Slugging, equal_var=False)"
   ]
  },
  {
   "cell_type": "code",
   "execution_count": 39,
   "metadata": {},
   "outputs": [
    {
     "data": {
      "text/plain": [
       "Ttest_indResult(statistic=10.352468467239067, pvalue=6.058649995734267e-25)"
      ]
     },
     "execution_count": 39,
     "metadata": {},
     "output_type": "execute_result"
    }
   ],
   "source": [
    "stats.ttest_ind(Reg_BA, Reg_Post_BA, equal_var=False)"
   ]
  },
  {
   "cell_type": "code",
   "execution_count": 40,
   "metadata": {},
   "outputs": [],
   "source": [
    "#Calculating differences between various stats to illustrate changes in performance\n",
    "SLG_DIF = [M_HOF_Slugging, M_HOF_Post_Slugging, M_Reg_Slugging,M_Reg_Post_Slugging]\n",
    "BA_DIF = [M_HOF_BA, M_HOF_Post_BA, M_Reg_BA, M_Reg_Post_BA]\n",
    "HOF_SLG_DIF = M_HOF_Post_Slugging - M_HOF_Slugging \n",
    "HOF_BA_DIF = M_HOF_Post_BA - M_HOF_BA\n",
    "REG_SLG_DIF = M_Reg_Post_Slugging - M_Reg_Slugging\n",
    "REG_BA_DIF = M_Reg_Post_BA - M_Reg_BA\n",
    "HOF_SLG_DIF, HOF_BA_DIF,REG_SLG_DIF, REG_BA_DIF\n",
    "DIFS= [HOF_SLG_DIF, REG_SLG_DIF, HOF_BA_DIF, REG_BA_DIF]"
   ]
  },
  {
   "cell_type": "code",
   "execution_count": 92,
   "metadata": {},
   "outputs": [
    {
     "data": {
      "image/png": "[encoded data removed]",
      "text/plain": [
       "<Figure size 1440x720 with 1 Axes>"
      ]
     },
     "metadata": {
      "needs_background": "light"
     },
     "output_type": "display_data"
    }
   ],
   "source": [
    "#Bar Chart for BA and SLG differences between HOF and All players in regular season vs post-season\n",
    "DIFS_labels = [\"HOF SLG Difference\",  \"All SLG Difference\", \"HOF BA Difference\", \"All BA Difference\" ]\n",
    "DIFS_x_axis = np.arange(len(DIFS))\n",
    "DIFS_plot = plt.bar(DIFS_x_axis, DIFS, color=['steelblue','cornflowerblue','firebrick','indianred'], align=\"center\")\n",
    "tick_locations = [value for value in DIFS_x_axis]\n",
    "plt.xticks(tick_locations, DIFS_labels, rotation = 'vertical')\n",
    "plt.title(\"Statistical Differences in Reg Season vs Post Season (HOF and Overall)\")\n",
    "plt.ylabel(\"%\")\n",
    "plt.grid(b=None, which='major', axis='y')\n",
    "plt.savefig('Output/playoff_dif.png')"
   ]
  },
  {
   "cell_type": "markdown",
   "metadata": {},
   "source": [
    "# Findings: Changes in player performance Regular Season to Post-Season\n",
    "* Hall Of Fame players Slugging Percentage and Batting Averages are statistically significantly worse in the post season than the regular season\n",
    "* All players Slugging Percentage and Batting averages are statistically significantly worse in the post season than the regular season\n",
    "* The decrease in Hall of Famers' stats in the post season is greater than that of All players"
   ]
  },
  {
   "cell_type": "markdown",
   "metadata": {},
   "source": [
    "# Make Stacked Bar Charts"
   ]
  },
  {
   "cell_type": "code",
   "execution_count": 89,
   "metadata": {
    "scrolled": false
   },
   "outputs": [
    {
     "data": {
      "image/png": "[encoded data removed]",
      "text/plain": [
       "<Figure size 1440x720 with 1 Axes>"
      ]
     },
     "metadata": {
      "needs_background": "light"
     },
     "output_type": "display_data"
    }
   ],
   "source": [
    "#multiple bar chart for All Players\n",
    "decade_reg_batting = [0.268, 0.258, 0.262, 0.264, 0.270, 0.271, 0.259]\n",
    "decade_reg_slugging = [0.408, 0.391, 0.388, 0.397, 0.419, 0.434, 0.415]\n",
    "\n",
    "# set width of bar\n",
    "barWidth = 0.25\n",
    " \n",
    "# Set position of bar on X axis\n",
    "r1 = np.arange(len(decade_reg_batting))\n",
    "r2 = [x + barWidth for x in r1]\n",
    "\n",
    " \n",
    "# Make the plot\n",
    "plot = [plt.bar(r1, decade_reg_batting, color='#2d7f5e', width=barWidth, edgecolor='white', label='Batting Average'),\n",
    "        plt.bar(r2, decade_reg_slugging, color='#557f2d', width=barWidth, edgecolor='white', label='Slugging Percentage')]\n",
    " \n",
    "# Add xticks on the middle of the group bars\n",
    "plt.xlabel('Decade')\n",
    "plt.xticks([r + barWidth for r in range(len(decade_reg_batting))], ['1950s', '1960s', '1970s', '1980s', '1990s','2000s','2010s'])\n",
    "plt.yticks(np.arange(0, .6, step=0.1))\n",
    "plt.grid(b=None, which='major', axis='y')\n",
    "\n",
    "# Create legend & Show graphic\n",
    "plt.legend()\n",
    "plt.ylabel('%')\n",
    "plt.title(\"Batting Average and Slugging %  by Decade (All Players)\")\n",
    "plt.rcParams[\"figure.figsize\"] = (20,10)\n",
    "plt.savefig('Output/all_multbar.png')\n"
   ]
  },
  {
   "cell_type": "code",
   "execution_count": 88,
   "metadata": {},
   "outputs": [
    {
     "data": {
      "image/png": "[encoded data removed]",
      "text/plain": [
       "<Figure size 1440x720 with 1 Axes>"
      ]
     },
     "metadata": {
      "needs_background": "light"
     },
     "output_type": "display_data"
    }
   ],
   "source": [
    "#multiple bar chart for HOF Players\n",
    "decade_HOF_BA = [0.296, 0.284, 0.281, 0.290, 0.297, 0.285, 0.275]\n",
    "decade_reg_slugging = [ 0.481, 0.476, 0.460, 0.454, 0.472, 0.499, 0.446]\n",
    "\n",
    "# set width of bar\n",
    "barWidth = 0.25\n",
    " \n",
    "# Set position of bar on X axis\n",
    "r1 = np.arange(len(decade_reg_batting))\n",
    "r2 = [x + barWidth for x in r1]\n",
    "\n",
    " \n",
    "# Make the plot\n",
    "plot = [plt.bar(r1, decade_HOF_BA, color='#2d7f5e', width=barWidth, edgecolor='white', label='Batting Average'),\n",
    "        plt.bar(r2, decade_reg_slugging, color='#557f2d', width=barWidth, edgecolor='white', label='Slugging Percentage')]\n",
    " \n",
    "# Add xticks on the middle of the group bars\n",
    "plt.xlabel('Decade')\n",
    "plt.xticks([r + barWidth for r in range(len(decade_reg_batting))], ['1950s', '1960s', '1970s', '1980s', '1990s','2000s','2010s'])\n",
    "plt.yticks(np.arange(0, .6, step=0.1))\n",
    "plt.grid(b=None, which='major', axis='y')\n",
    "\n",
    "# Create legend & Show graphic\n",
    "plt.legend()\n",
    "plt.ylabel('%')\n",
    "plt.title(\"Batting Average and Slugging % by Decade (HOF Players)\")\n",
    "plt.rcParams[\"figure.figsize\"] = (20,10)\n",
    "plt.savefig('Output/HOF_multbar.png')"
   ]
  },
  {
   "cell_type": "code",
   "execution_count": null,
   "metadata": {},
   "outputs": [],
   "source": []
  },
  {
   "cell_type": "code",
   "execution_count": null,
   "metadata": {},
   "outputs": [],
   "source": []
  },
  {
   "cell_type": "code",
   "execution_count": null,
   "metadata": {},
   "outputs": [],
   "source": []
  }
 ],
 "metadata": {
  "kernelspec": {
   "display_name": "Python [conda env:root] *",
   "language": "python",
   "name": "conda-root-py"
  },
  "language_info": {
   "codemirror_mode": {
    "name": "ipython",
    "version": 3
   },
   "file_extension": ".py",
   "mimetype": "text/x-python",
   "name": "python",
   "nbconvert_exporter": "python",
   "pygments_lexer": "ipython3",
   "version": "3.7.3"
  }
 },
 "nbformat": 4,
 "nbformat_minor": 2
}
