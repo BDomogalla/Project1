{
 "cells": [
  {
   "cell_type": "code",
   "execution_count": 1,
   "metadata": {},
   "outputs": [],
   "source": [
    "# Import Dependencies\n",
    "import pandas as pd"
   ]
  },
  {
   "cell_type": "code",
   "execution_count": 2,
   "metadata": {},
   "outputs": [],
   "source": [
    "# Set File Paths\n",
    "filepath1 = \"Data\\HallOfFame.csv\"\n",
    "\n",
    "filepath2 = \"Data\\Batting.csv\"\n",
    "\n",
    "filepath3 = \"Data\\BattingPost.csv\"\n",
    "\n",
    "filepath4 = \"Data\\People.csv\"\n",
    "\n",
    "filepath5 = \"Data\\Fielding.csv\""
   ]
  },
  {
   "cell_type": "code",
   "execution_count": 3,
   "metadata": {},
   "outputs": [],
   "source": [
    "# Read CSV Files and Convert Them to DataFrames\n",
    "hof_df = pd.read_csv(filepath1)\n",
    "\n",
    "batting_stats = pd.read_csv(filepath2)\n",
    "\n",
    "postseason_batting_stats = pd.read_csv(filepath3)\n",
    "\n",
    "people_df = pd.read_csv(filepath4)\n",
    "\n",
    "fielding_df = pd.read_csv(filepath5)"
   ]
  },
  {
   "cell_type": "code",
   "execution_count": 4,
   "metadata": {},
   "outputs": [],
   "source": [
    "# Filter HOF DataFrame to Only Include People Inducted into Hall of Fame\n",
    "hof_df = hof_df.loc[hof_df[\"inducted\"] == \"Y\"]"
   ]
  },
  {
   "cell_type": "code",
   "execution_count": 5,
   "metadata": {
    "scrolled": true
   },
   "outputs": [],
   "source": [
    "# Filter HOF DataFrame to Only Inclue Players Inducted into Hall of Fame\n",
    "hof_df = hof_df.loc[hof_df[\"category\"] == \"Player\"]"
   ]
  },
  {
   "cell_type": "code",
   "execution_count": 6,
   "metadata": {},
   "outputs": [],
   "source": [
    "# Create a new DataFrame that Includes playerIDs for All Hall of Fame Players\n",
    "hof_player_id = pd.DataFrame(hof_df[\"playerID\"])"
   ]
  },
  {
   "cell_type": "code",
   "execution_count": 7,
   "metadata": {},
   "outputs": [],
   "source": [
    "# Merge Hall of Fame playerID DataFrame with Regular/Postseason Batting Stats DataFrames,\n",
    "# Utilizing an Inner Merge to Remove All Non-Hall of Fame Players and Any Years with No Batting Data\n",
    "hof_batting_stats = pd.merge(hof_player_id, batting_stats, on=\"playerID\", how=\"inner\")\n",
    "\n",
    "hof_postseason_batting_stats = pd.merge(hof_player_id, postseason_batting_stats, on=\"playerID\", how=\"inner\")"
   ]
  },
  {
   "cell_type": "code",
   "execution_count": 8,
   "metadata": {},
   "outputs": [],
   "source": [
    "# Organize DataFrame Columns and Remove Unwanted Columns\n",
    "hof_batting_stats = hof_batting_stats[[\"playerID\", \"yearID\", \"G\", \"AB\", \"R\", \"H\", \"2B\", \"3B\", \"HR\", \"RBI\", \"BB\", \"IBB\", \"HBP\", \"SH\"]]\n",
    "\n",
    "hof_postseason_batting_stats = hof_postseason_batting_stats[[\"playerID\", \"yearID\", \"G\", \"AB\", \"R\", \"H\", \"2B\", \"3B\", \"HR\", \"RBI\", \"BB\", \"IBB\", \"HBP\", \"SH\"]]"
   ]
  },
  {
   "cell_type": "code",
   "execution_count": 9,
   "metadata": {},
   "outputs": [],
   "source": [
    "# Organize DataFrame Columns and Remove Unwanted Columns\n",
    "hof_player_names = people_df[[\"playerID\", \"nameFirst\", \"nameLast\"]]"
   ]
  },
  {
   "cell_type": "code",
   "execution_count": 10,
   "metadata": {
    "scrolled": true
   },
   "outputs": [],
   "source": [
    "# Merge Hall of Fame Player Names DataFrame with Regular/Postseason Batting Stats DataFrames\n",
    "# Utilizing an Inner Merge to Add Player Names to the Batting Stats DataFrames\n",
    "hof_batting_stats_name = pd.merge(hof_player_names, hof_batting_stats, on=\"playerID\", how=\"inner\")\n",
    "\n",
    "hof_postseason_batting_stats_name = pd.merge(hof_player_names, hof_postseason_batting_stats, on=\"playerID\", how=\"inner\")"
   ]
  },
  {
   "cell_type": "code",
   "execution_count": 11,
   "metadata": {},
   "outputs": [],
   "source": [
    "# Combine nameFirst and nameLast Columns into a Single Name Column\n",
    "hof_batting_stats_name = hof_batting_stats_name.assign(Name = hof_batting_stats_name.nameFirst.astype(str) + \" \" +\n",
    "                                                       hof_batting_stats_name.nameLast.astype(str))\n",
    "\n",
    "hof_postseason_batting_stats_name = hof_postseason_batting_stats_name.assign(Name = hof_postseason_batting_stats_name.nameFirst.astype(str) \n",
    "                                                                             + \" \" + hof_postseason_batting_stats_name.nameLast.astype(str))"
   ]
  },
  {
   "cell_type": "code",
   "execution_count": 12,
   "metadata": {},
   "outputs": [],
   "source": [
    "# Reposition Name Column and Remove nameFirst and nameLast Columns from DataFrames\n",
    "hof_batting_stats_name = hof_batting_stats_name[[\"playerID\", \"Name\", \"yearID\", \"G\", \"AB\", \"R\", \"H\", \"2B\", \"3B\", \"HR\", \"RBI\", \"BB\", \"IBB\", \"HBP\", \"SH\"]]\n",
    "\n",
    "hof_postseason_batting_stats_name = hof_postseason_batting_stats_name[[\"playerID\", \"Name\", \"yearID\", \"G\", \"AB\", \"R\", \"H\", \"2B\", \"3B\", \"HR\", \"RBI\", \"BB\", \"IBB\", \"HBP\", \"SH\"]]"
   ]
  },
  {
   "cell_type": "code",
   "execution_count": 13,
   "metadata": {},
   "outputs": [],
   "source": [
    "# Replace NA Values with a 0\n",
    "hof_batting_stats_name = hof_batting_stats_name.fillna(0)\n",
    "\n",
    "hof_postseason_batting_stats_name = hof_postseason_batting_stats_name.fillna(0)"
   ]
  },
  {
   "cell_type": "code",
   "execution_count": 16,
   "metadata": {},
   "outputs": [],
   "source": [
    "# Remove All Years Before 1950 From the DataFrames\n",
    "sorted_hof_rs_stats = hof_batting_stats_name.loc[hof_batting_stats_name[\"yearID\"] >= 1950]\n",
    "\n",
    "sorted_hof_ps_stats = hof_postseason_batting_stats_name.loc[hof_postseason_batting_stats_name[\"yearID\"] >= 1950]"
   ]
  },
  {
   "cell_type": "code",
   "execution_count": 17,
   "metadata": {},
   "outputs": [],
   "source": [
    "# Organize DataFrame Columns and Remove Unwanted Columns\n",
    "fielding_df = fielding_df[[\"playerID\", \"POS\"]]"
   ]
  },
  {
   "cell_type": "code",
   "execution_count": 19,
   "metadata": {},
   "outputs": [],
   "source": [
    "# Keep All Position Players and Remove Pitchers From Position Players DataFrame\n",
    "position_players = fielding_df.loc[(fielding_df[\"POS\"] == \"C\") | (fielding_df[\"POS\"] == \"1B\") | (fielding_df[\"POS\"] == \"2B\") | (fielding_df[\"POS\"] == \"SS\") | (fielding_df[\"POS\"] == \"3B\") | (fielding_df[\"POS\"] == \"OF\")]"
   ]
  },
  {
   "cell_type": "code",
   "execution_count": 20,
   "metadata": {},
   "outputs": [],
   "source": [
    "# Create a DataFrame of Unique Position Player Ids\n",
    "position_player_id = pd.DataFrame({\"playerID\": position_players[\"playerID\"].unique()})"
   ]
  },
  {
   "cell_type": "code",
   "execution_count": 21,
   "metadata": {},
   "outputs": [],
   "source": [
    "# Merge Position Player ID DataFrame with Sorted Regular/Postseason Stats DataFrames, Utilizing an Inner Merge\n",
    "# to Remove Pitcher's Batting Stats From the Resulting DataFrames\n",
    "sorted_hof_pp_rs_stats = pd.merge(sorted_hof_rs_stats, position_player_id, on=\"playerID\", how=\"inner\")\n",
    "\n",
    "sorted_hof_pp_ps_stats = pd.merge(sorted_hof_ps_stats, position_player_id, on=\"playerID\", how=\"inner\")"
   ]
  },
  {
   "cell_type": "code",
   "execution_count": 26,
   "metadata": {},
   "outputs": [],
   "source": [
    "# Re-Order DataFrames by yearID with Oldest Years First\n",
    "sorted_hof_pp_rs_stats = sorted_hof_pp_rs_stats.sort_values(\"yearID\")\n",
    "\n",
    "sorted_hof_pp_ps_stats = sorted_hof_pp_ps_stats.sort_values(\"yearID\")"
   ]
  },
  {
   "cell_type": "code",
   "execution_count": 27,
   "metadata": {},
   "outputs": [],
   "source": [
    "# Save Final DataFrames as CSV Files in Output Directory\n",
    "sorted_hof_pp_rs_stats.to_csv(\"Output/sorted_hof_pp_rs_stats.csv\", index=False, header=True)\n",
    "\n",
    "sorted_hof_pp_ps_stats.to_csv(\"Output/sorted_hof_pp_ps_stats.csv\", index=False, header=True)"
   ]
  },
  {
   "cell_type": "code",
   "execution_count": null,
   "metadata": {},
   "outputs": [],
   "source": []
  }
 ],
 "metadata": {
  "kernelspec": {
   "display_name": "Python [conda env:PythonData] *",
   "language": "python",
   "name": "conda-env-PythonData-py"
  },
  "language_info": {
   "codemirror_mode": {
    "name": "ipython",
    "version": 3
   },
   "file_extension": ".py",
   "mimetype": "text/x-python",
   "name": "python",
   "nbconvert_exporter": "python",
   "pygments_lexer": "ipython3",
   "version": "3.6.9"
  }
 },
 "nbformat": 4,
 "nbformat_minor": 2
}
