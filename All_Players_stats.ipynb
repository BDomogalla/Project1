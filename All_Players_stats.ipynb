{
 "cells": [
  {
   "cell_type": "code",
   "execution_count": 2,
   "metadata": {},
   "outputs": [],
   "source": [
    "import pandas as pd"
   ]
  },
  {
   "cell_type": "code",
   "execution_count": 3,
   "metadata": {},
   "outputs": [],
   "source": [
    "filepath1 = \"Data\\Batting.csv\"\n",
    "\n",
    "filepath2 = \"Data\\BattingPost.csv\"\n",
    "\n",
    "filepath3 = \"Data\\People.csv\"\n",
    "\n",
    "filepath4 = \"Data\\Fielding.csv\""
   ]
  },
  {
   "cell_type": "code",
   "execution_count": 4,
   "metadata": {},
   "outputs": [],
   "source": [
    "batting_stats = pd.read_csv(filepath1)\n",
    "\n",
    "postseason_batting_stats = pd.read_csv(filepath2)\n",
    "\n",
    "people_df = pd.read_csv(filepath3)\n",
    "\n",
    "fielding_df = pd.read_csv(filepath4)"
   ]
  },
  {
   "cell_type": "code",
   "execution_count": 5,
   "metadata": {},
   "outputs": [],
   "source": [
    "regular_season_batting_stats = batting_stats[[\"playerID\", \"yearID\", \"G\", \"AB\", \"R\", \"H\", \"2B\", \"3B\", \"HR\", \"RBI\", \"BB\", \"IBB\", \"HBP\", \"SH\"]]\n",
    "\n",
    "postseason_batting_stats = postseason_batting_stats[[\"playerID\", \"yearID\", \"G\", \"AB\", \"R\", \"H\", \"2B\", \"3B\", \"HR\", \"RBI\", \"BB\", \"IBB\", \"HBP\", \"SH\"]]"
   ]
  },
  {
   "cell_type": "code",
   "execution_count": 6,
   "metadata": {},
   "outputs": [],
   "source": [
    "players = people_df[[\"playerID\", \"nameFirst\", \"nameLast\"]]"
   ]
  },
  {
   "cell_type": "code",
   "execution_count": 7,
   "metadata": {},
   "outputs": [],
   "source": [
    "regular_season_batting_stats_name = pd.merge(players, regular_season_batting_stats, on=\"playerID\", how=\"inner\")\n",
    "\n",
    "postseason_batting_stats_name = pd.merge(players, postseason_batting_stats, on=\"playerID\", how=\"inner\")"
   ]
  },
  {
   "cell_type": "code",
   "execution_count": 8,
   "metadata": {},
   "outputs": [],
   "source": [
    "regular_season_batting_stats_name = regular_season_batting_stats_name.assign(Name = regular_season_batting_stats_name.nameFirst.astype(str) + \" \" +\n",
    "                                                       regular_season_batting_stats_name.nameLast.astype(str))\n",
    "\n",
    "postseason_batting_stats_name = postseason_batting_stats_name.assign(Name = postseason_batting_stats_name.nameFirst.astype(str) + \" \" +\n",
    "                                                       postseason_batting_stats_name.nameLast.astype(str))"
   ]
  },
  {
   "cell_type": "code",
   "execution_count": 9,
   "metadata": {},
   "outputs": [],
   "source": [
    "regular_season_batting_stats_name = regular_season_batting_stats_name[[\"playerID\", \"Name\", \"yearID\", \"G\", \"AB\", \"R\", \"H\", \"2B\", \"3B\", \"HR\", \"RBI\", \"BB\", \"IBB\", \"HBP\", \"SH\"]]\n",
    "\n",
    "postseason_batting_stats_name = postseason_batting_stats_name[[\"playerID\", \"Name\", \"yearID\", \"G\", \"AB\", \"R\", \"H\", \"2B\", \"3B\", \"HR\", \"RBI\", \"BB\", \"IBB\", \"HBP\", \"SH\"]]"
   ]
  },
  {
   "cell_type": "code",
   "execution_count": 10,
   "metadata": {},
   "outputs": [],
   "source": [
    "regular_season_batting_stats_name = regular_season_batting_stats_name.fillna(0)\n",
    "\n",
    "postseason_batting_stats_name = postseason_batting_stats_name.fillna(0)"
   ]
  },
  {
   "cell_type": "code",
   "execution_count": 12,
   "metadata": {},
   "outputs": [],
   "source": [
    "sorted_rs_stats = regular_season_batting_stats_name.loc[regular_season_batting_stats_name[\"yearID\"] >= 1950]\n",
    "\n",
    "sorted_ps_stats = postseason_batting_stats_name.loc[postseason_batting_stats_name[\"yearID\"] >= 1950]"
   ]
  },
  {
   "cell_type": "code",
   "execution_count": 13,
   "metadata": {},
   "outputs": [],
   "source": [
    "fielding_df = fielding_df[[\"playerID\", \"POS\"]]"
   ]
  },
  {
   "cell_type": "code",
   "execution_count": 14,
   "metadata": {},
   "outputs": [],
   "source": [
    "position_players = fielding_df.loc[(fielding_df[\"POS\"] == \"C\") | (fielding_df[\"POS\"] == \"1B\") | (fielding_df[\"POS\"] == \"2B\") | (fielding_df[\"POS\"] == \"SS\") | (fielding_df[\"POS\"] == \"3B\") | (fielding_df[\"POS\"] == \"OF\")]"
   ]
  },
  {
   "cell_type": "code",
   "execution_count": 15,
   "metadata": {},
   "outputs": [],
   "source": [
    "position_player_id = pd.DataFrame({\"playerID\": position_players[\"playerID\"].unique()})"
   ]
  },
  {
   "cell_type": "code",
   "execution_count": 16,
   "metadata": {},
   "outputs": [],
   "source": [
    "sorted_pp_rs_stats = pd.merge(sorted_rs_stats, position_player_id, on=\"playerID\", how=\"inner\")\n",
    "\n",
    "sorted_pp_ps_stats = pd.merge(sorted_ps_stats, position_player_id, on=\"playerID\", how=\"inner\")"
   ]
  },
  {
   "cell_type": "code",
   "execution_count": 19,
   "metadata": {},
   "outputs": [],
   "source": [
    "sorted_pp_rs_stats = sorted_pp_rs_stats.sort_values(\"yearID\")\n",
    "\n",
    "sorted_pp_ps_stats = sorted_pp_ps_stats.sort_values(\"yearID\")"
   ]
  },
  {
   "cell_type": "code",
   "execution_count": 20,
   "metadata": {},
   "outputs": [],
   "source": [
    "sorted_pp_rs_stats.to_csv(\"Output/sorted_pp_rs_stats.csv\", index=False, header=True)\n",
    "\n",
    "sorted_pp_ps_stats.to_csv(\"Output/sorted_pp_ps_stats.csv\", index=False, header=True)"
   ]
  },
  {
   "cell_type": "code",
   "execution_count": null,
   "metadata": {},
   "outputs": [],
   "source": []
  }
 ],
 "metadata": {
  "kernelspec": {
   "display_name": "Python [conda env:PythonData] *",
   "language": "python",
   "name": "conda-env-PythonData-py"
  },
  "language_info": {
   "codemirror_mode": {
    "name": "ipython",
    "version": 3
   },
   "file_extension": ".py",
   "mimetype": "text/x-python",
   "name": "python",
   "nbconvert_exporter": "python",
   "pygments_lexer": "ipython3",
   "version": "3.6.9"
  }
 },
 "nbformat": 4,
 "nbformat_minor": 2
}
