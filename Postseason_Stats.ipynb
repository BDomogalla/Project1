{
 "cells": [
  {
   "cell_type": "code",
   "execution_count": 1,
   "metadata": {},
   "outputs": [],
   "source": [
    "import pandas as pd"
   ]
  },
  {
   "cell_type": "code",
   "execution_count": 2,
   "metadata": {},
   "outputs": [],
   "source": [
    "filepath1 = \"Data\\BattingPost.csv\"\n",
    "\n",
    "filepath2 = \"Data\\People.csv\""
   ]
  },
  {
   "cell_type": "code",
   "execution_count": 3,
   "metadata": {},
   "outputs": [],
   "source": [
    "batting_stats = pd.read_csv(filepath1)\n",
    "\n",
    "people_df = pd.read_csv(filepath2)"
   ]
  },
  {
   "cell_type": "code",
   "execution_count": 4,
   "metadata": {},
   "outputs": [],
   "source": [
    "postseason_batting_stats = batting_stats[[\"playerID\", \"yearID\", \"G\", \"AB\", \"R\", \"H\", \"2B\", \"3B\", \"HR\", \"RBI\", \"BB\", \"IBB\", \"HBP\"]]"
   ]
  },
  {
   "cell_type": "code",
   "execution_count": 5,
   "metadata": {},
   "outputs": [],
   "source": [
    "players = people_df[[\"playerID\", \"nameFirst\", \"nameLast\"]]"
   ]
  },
  {
   "cell_type": "code",
   "execution_count": 6,
   "metadata": {},
   "outputs": [],
   "source": [
    "postseason_batting_stats_name = pd.merge(players, postseason_batting_stats, on=\"playerID\", how=\"inner\")"
   ]
  },
  {
   "cell_type": "code",
   "execution_count": 7,
   "metadata": {},
   "outputs": [],
   "source": [
    "postseason_batting_stats_name = postseason_batting_stats_name.assign(Name = postseason_batting_stats_name.nameFirst.astype(str) + \" \" +\n",
    "                                                       postseason_batting_stats_name.nameLast.astype(str))"
   ]
  },
  {
   "cell_type": "code",
   "execution_count": 8,
   "metadata": {},
   "outputs": [],
   "source": [
    "postseason_batting_stats_name = postseason_batting_stats_name[[\"playerID\", \"Name\", \"yearID\", \"G\", \"AB\", \"R\", \"H\", \"2B\", \"3B\", \"HR\", \"RBI\", \"BB\", \"IBB\", \"HBP\"]]"
   ]
  },
  {
   "cell_type": "code",
   "execution_count": 9,
   "metadata": {},
   "outputs": [],
   "source": [
    "postseason_batting_stats_name = postseason_batting_stats_name.fillna(0)"
   ]
  },
  {
   "cell_type": "code",
   "execution_count": 10,
   "metadata": {},
   "outputs": [],
   "source": [
    "postseason_batting_stats_name.to_csv(\"Output/Postseason_Batting_stats.csv\", index=False, header=True)"
   ]
  },
  {
   "cell_type": "code",
   "execution_count": null,
   "metadata": {},
   "outputs": [],
   "source": []
  }
 ],
 "metadata": {
  "kernelspec": {
   "display_name": "Python [conda env:PythonData] *",
   "language": "python",
   "name": "conda-env-PythonData-py"
  },
  "language_info": {
   "codemirror_mode": {
    "name": "ipython",
    "version": 3
   },
   "file_extension": ".py",
   "mimetype": "text/x-python",
   "name": "python",
   "nbconvert_exporter": "python",
   "pygments_lexer": "ipython3",
   "version": "3.6.9"
  }
 },
 "nbformat": 4,
 "nbformat_minor": 2
}
